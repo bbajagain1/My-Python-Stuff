{
 "cells": [
  {
   "cell_type": "code",
   "execution_count": 7,
   "id": "81592467-6ff2-4568-b81e-0dcc7cb6e7b1",
   "metadata": {},
   "outputs": [
    {
     "name": "stdout",
     "output_type": "stream",
     "text": [
      "Hey it looks like you aren't adding correctly\n"
     ]
    }
   ],
   "source": [
    "try:\n",
    "    # want to attempt this code\n",
    "    # may have an error\n",
    "    result = 10 + '10'\n",
    "except:\n",
    "    print(\"Hey it looks like you aren't adding correctly\")\n",
    "else:\n",
    "    #code that must be executed if the try clause does not raise an exception\n",
    "    print(\"Add went well!\")\n",
    "    print(result)"
   ]
  },
  {
   "cell_type": "code",
   "execution_count": 4,
   "id": "7bfd17a6-56cc-4ef6-ad9c-71a89379eb37",
   "metadata": {},
   "outputs": [
    {
     "data": {
      "text/plain": [
       "20"
      ]
     },
     "execution_count": 4,
     "metadata": {},
     "output_type": "execute_result"
    }
   ],
   "source": [
    "result"
   ]
  },
  {
   "cell_type": "code",
   "execution_count": 11,
   "id": "df4958de-2dff-4ad6-ad18-d6a852fc12f3",
   "metadata": {},
   "outputs": [
    {
     "name": "stdout",
     "output_type": "stream",
     "text": [
      "Hey you have an OS Error\n",
      "I always run\n"
     ]
    }
   ],
   "source": [
    "try:\n",
    "    # trying to read a file that does not exist\n",
    "    f = open('testfile','r')\n",
    "    f.write('write a test line')\n",
    "except TypeError:\n",
    "    print(\"There was a type error!\")\n",
    "except OSError:\n",
    "    print(\"Hey you have an OS Error\")\n",
    "except:\n",
    "    print(\"All other exceptions\")\n",
    "finally:\n",
    "    # will run no matter exception or not above\n",
    "    print(\"I always run\")"
   ]
  },
  {
   "cell_type": "code",
   "execution_count": 21,
   "id": "41d3f906-9619-421e-ad22-f81aaefa9375",
   "metadata": {},
   "outputs": [],
   "source": [
    "def ask_for_int():\n",
    "\n",
    "    while True:\n",
    "        try:\n",
    "            result = int(input(\"Please provide number: \"))\n",
    "        except:\n",
    "            print(\"Whoops! That is not a number\")\n",
    "            continue\n",
    "        else:\n",
    "            # code that must be executed if the try clause does not raise an exception\n",
    "            print(\"Yes thank you\")\n",
    "            break\n",
    "        finally:\n",
    "            print(\"End of try/except/finally\")\n",
    "            print(\"I will always run at the end!\")"
   ]
  },
  {
   "cell_type": "code",
   "execution_count": 20,
   "id": "590b25da-3503-483a-a0ea-137392e31e59",
   "metadata": {},
   "outputs": [
    {
     "name": "stdin",
     "output_type": "stream",
     "text": [
      "Please provide number:  q\n"
     ]
    },
    {
     "name": "stdout",
     "output_type": "stream",
     "text": [
      "Whoops! That is not a number\n",
      "End of try/except/finally\n",
      "I will always run at the end!\n"
     ]
    },
    {
     "name": "stdin",
     "output_type": "stream",
     "text": [
      "Please provide number:  d\n"
     ]
    },
    {
     "name": "stdout",
     "output_type": "stream",
     "text": [
      "Whoops! That is not a number\n",
      "End of try/except/finally\n",
      "I will always run at the end!\n"
     ]
    },
    {
     "name": "stdin",
     "output_type": "stream",
     "text": [
      "Please provide number:  30\n"
     ]
    },
    {
     "name": "stdout",
     "output_type": "stream",
     "text": [
      "Yes thank you\n",
      "End of try/except/finally\n",
      "I will always run at the end!\n"
     ]
    }
   ],
   "source": [
    "ask_for_int()"
   ]
  },
  {
   "cell_type": "code",
   "execution_count": null,
   "id": "b688e8c0-8be2-4c8e-887b-617a2c72899a",
   "metadata": {},
   "outputs": [],
   "source": []
  }
 ],
 "metadata": {
  "kernelspec": {
   "display_name": "Python 3 (ipykernel)",
   "language": "python",
   "name": "python3"
  },
  "language_info": {
   "codemirror_mode": {
    "name": "ipython",
    "version": 3
   },
   "file_extension": ".py",
   "mimetype": "text/x-python",
   "name": "python",
   "nbconvert_exporter": "python",
   "pygments_lexer": "ipython3",
   "version": "3.11.7"
  }
 },
 "nbformat": 4,
 "nbformat_minor": 5
}
