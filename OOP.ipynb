{
 "cells": [
  {
   "cell_type": "code",
   "execution_count": 64,
   "id": "3d6bd1f5-fcee-433b-971a-516529b02006",
   "metadata": {},
   "outputs": [],
   "source": [
    "class NameOfClass():\n",
    "\n",
    "    ## All init starts with self \n",
    "    def __init__(self,param1,param2):\n",
    "        self.param1=param1\n",
    "        self.param2=param2\n",
    "    def some_method(self):\n",
    "        print(self.param1)"
   ]
  },
  {
   "cell_type": "code",
   "execution_count": 2,
   "id": "d14e3040-f385-41f1-a2e2-182bba001cf1",
   "metadata": {},
   "outputs": [],
   "source": [
    "mylist = [1,2,3]"
   ]
  },
  {
   "cell_type": "code",
   "execution_count": 3,
   "id": "43b3e7a6-1b34-4088-9c7a-6cc13605f879",
   "metadata": {},
   "outputs": [
    {
     "data": {
      "text/plain": [
       "list"
      ]
     },
     "execution_count": 3,
     "metadata": {},
     "output_type": "execute_result"
    }
   ],
   "source": [
    "type(mylist)"
   ]
  },
  {
   "cell_type": "code",
   "execution_count": 11,
   "id": "4e6758ab-a30b-4f23-81e5-565e943ba94e",
   "metadata": {},
   "outputs": [],
   "source": [
    "class Dog():\n",
    "    ## Class object attribute\n",
    "    ## Same for any instance of a class\n",
    "    species = 'mammal'\n",
    "    \n",
    "    def __init__(self,breed,name):\n",
    "        self.breed = breed\n",
    "        self.name = name\n",
    "\n",
    "    # Operations/Actions ------> Methods\n",
    "    def bark(self,number):\n",
    "        print(\"Woof! My name is {} and the number is {}\".format(self.name,number))"
   ]
  },
  {
   "cell_type": "code",
   "execution_count": 12,
   "id": "f74fa6b3-a476-46e4-8e4d-5e10064a0e3d",
   "metadata": {},
   "outputs": [],
   "source": [
    "my_dog = Dog(breed='lab',name='Sammy')"
   ]
  },
  {
   "cell_type": "code",
   "execution_count": 19,
   "id": "9fd69503-2405-4257-8d14-ff095f83cb77",
   "metadata": {},
   "outputs": [
    {
     "data": {
      "text/plain": [
       "__main__.Dog"
      ]
     },
     "execution_count": 19,
     "metadata": {},
     "output_type": "execute_result"
    }
   ],
   "source": [
    "type(my_dog)"
   ]
  },
  {
   "cell_type": "code",
   "execution_count": 15,
   "id": "fb7320db-6c0e-4afa-8edd-d111f288a1ed",
   "metadata": {},
   "outputs": [
    {
     "name": "stdout",
     "output_type": "stream",
     "text": [
      "Woof! My name is Sammy and the number is 3\n"
     ]
    }
   ],
   "source": [
    "my_dog.bark(number=3)"
   ]
  },
  {
   "cell_type": "code",
   "execution_count": 27,
   "id": "d4e3cee7-cbf6-46a8-813a-c26c3078fc22",
   "metadata": {},
   "outputs": [],
   "source": [
    "class Circle():\n",
    "\n",
    "    pi = 3.14\n",
    "\n",
    "    def __init__(self,radius=1):\n",
    "        self.radius = radius\n",
    "        # Class level attribute hence can be written Class dot\n",
    "        self.area = radius * radius * Circle.pi\n",
    "\n",
    "    def get_circumference(self):\n",
    "        return self.radius*self.pi*2"
   ]
  },
  {
   "cell_type": "code",
   "execution_count": 28,
   "id": "9bb96162-ed18-4c6e-97e4-d062c8a8e3b3",
   "metadata": {},
   "outputs": [],
   "source": [
    "my_circle = Circle()"
   ]
  },
  {
   "cell_type": "code",
   "execution_count": 29,
   "id": "3bc141e4-7b9d-43df-a5ea-482379732f66",
   "metadata": {},
   "outputs": [
    {
     "data": {
      "text/plain": [
       "6.28"
      ]
     },
     "execution_count": 29,
     "metadata": {},
     "output_type": "execute_result"
    }
   ],
   "source": [
    "my_circle.get_circumference()"
   ]
  },
  {
   "cell_type": "code",
   "execution_count": 30,
   "id": "163eeae1-ccb8-4eb7-9fe9-edc22514245e",
   "metadata": {},
   "outputs": [
    {
     "data": {
      "text/plain": [
       "3.14"
      ]
     },
     "execution_count": 30,
     "metadata": {},
     "output_type": "execute_result"
    }
   ],
   "source": [
    "my_circle.area"
   ]
  },
  {
   "cell_type": "code",
   "execution_count": 31,
   "id": "f1d1d361-4747-46ad-a0f1-5e6dbfcf8d19",
   "metadata": {},
   "outputs": [],
   "source": [
    "class Animal():\n",
    "\n",
    "    def __init__(self):\n",
    "        print(\"Animal Created\")\n",
    "\n",
    "    def who_am_i(self):\n",
    "        print(\"I am an animal\")\n",
    "\n",
    "    def eat(self):\n",
    "        print(\"I am eating\")"
   ]
  },
  {
   "cell_type": "code",
   "execution_count": 32,
   "id": "732f9f6a-3ffb-4c62-a8eb-3680d91e7d86",
   "metadata": {},
   "outputs": [
    {
     "name": "stdout",
     "output_type": "stream",
     "text": [
      "Animal Created\n"
     ]
    }
   ],
   "source": [
    "myanimal = Animal()"
   ]
  },
  {
   "cell_type": "code",
   "execution_count": 33,
   "id": "ac2a641e-6b58-4a0b-9ae9-1d407d68d931",
   "metadata": {},
   "outputs": [
    {
     "name": "stdout",
     "output_type": "stream",
     "text": [
      "I am an animal\n"
     ]
    }
   ],
   "source": [
    "myanimal.who_am_i()"
   ]
  },
  {
   "cell_type": "code",
   "execution_count": 34,
   "id": "08e14b68-2b60-43d3-bd59-c8af07a59602",
   "metadata": {},
   "outputs": [
    {
     "name": "stdout",
     "output_type": "stream",
     "text": [
      "I am eating\n"
     ]
    }
   ],
   "source": [
    "myanimal.eat()"
   ]
  },
  {
   "cell_type": "code",
   "execution_count": 40,
   "id": "03617dab-3ed4-454b-8922-00943048c638",
   "metadata": {},
   "outputs": [],
   "source": [
    "class Dog(Animal):\n",
    "    \n",
    "    def __init__(self):\n",
    "        Animal.__init__(self)\n",
    "        print(\"Dog created\")\n",
    "\n",
    "    def eat(self):\n",
    "        print(\"I am a dog eating\")\n",
    "\n",
    "    def bark(self):\n",
    "        print(\"Woof!\")"
   ]
  },
  {
   "cell_type": "code",
   "execution_count": 41,
   "id": "2ddf4f0b-0d1b-4367-bcbc-3139359541e1",
   "metadata": {},
   "outputs": [
    {
     "name": "stdout",
     "output_type": "stream",
     "text": [
      "Animal Created\n",
      "Dog created\n"
     ]
    }
   ],
   "source": [
    "mydoganimal = Dog()"
   ]
  },
  {
   "cell_type": "code",
   "execution_count": 42,
   "id": "3398aebb-99b1-4fff-a2fd-c4514155e91b",
   "metadata": {},
   "outputs": [
    {
     "name": "stdout",
     "output_type": "stream",
     "text": [
      "I am a dog eating\n"
     ]
    }
   ],
   "source": [
    "mydoganimal.eat()"
   ]
  },
  {
   "cell_type": "code",
   "execution_count": 43,
   "id": "69094799-a2a4-4430-91b0-b4aaca9068cf",
   "metadata": {},
   "outputs": [
    {
     "name": "stdout",
     "output_type": "stream",
     "text": [
      "I am an animal\n"
     ]
    }
   ],
   "source": [
    "mydoganimal.who_am_i()"
   ]
  },
  {
   "cell_type": "code",
   "execution_count": 49,
   "id": "a36d7e70-fa1c-4dc2-8b9f-e96ce3836d7e",
   "metadata": {},
   "outputs": [],
   "source": [
    "class Dog():\n",
    "    \n",
    "    def __init__(self,name):\n",
    "        self.name = name\n",
    "\n",
    "    def speak(self):\n",
    "        print(self.name + \"says woof!\")"
   ]
  },
  {
   "cell_type": "code",
   "execution_count": 50,
   "id": "0b2cc6be-363a-4bdf-9e3b-56af3590898a",
   "metadata": {},
   "outputs": [],
   "source": [
    "class Cat():\n",
    "    \n",
    "    def __init__(self,name):\n",
    "        self.name = name\n",
    "\n",
    "    def speak(self):\n",
    "        print(self.name + \"says meow!\")"
   ]
  },
  {
   "cell_type": "code",
   "execution_count": 47,
   "id": "56444de9-4697-4a8e-8175-2789d3ada0bb",
   "metadata": {},
   "outputs": [],
   "source": [
    "niko = Dog(\"niko\")\n",
    "felix = Cat(\"felix\")"
   ]
  },
  {
   "cell_type": "code",
   "execution_count": 48,
   "id": "ef2903ba-dd0f-457e-9d22-d8adb3a6f6de",
   "metadata": {},
   "outputs": [
    {
     "name": "stdout",
     "output_type": "stream",
     "text": [
      "nikosays woof!\n",
      "None\n"
     ]
    }
   ],
   "source": [
    "print(niko.speak())"
   ]
  },
  {
   "cell_type": "code",
   "execution_count": 51,
   "id": "08fa5b22-9e3f-421b-ad66-4a13d5e4fb6a",
   "metadata": {},
   "outputs": [
    {
     "name": "stdout",
     "output_type": "stream",
     "text": [
      "<class '__main__.Dog'>\n",
      "nikosays woof!\n",
      "None\n",
      "<class '__main__.Cat'>\n",
      "felixsays meow!\n",
      "None\n"
     ]
    }
   ],
   "source": [
    "for pet in [niko,felix]:\n",
    "    print(type(pet))\n",
    "    print(pet.speak())"
   ]
  },
  {
   "cell_type": "code",
   "execution_count": 52,
   "id": "97c03454-42cd-41f8-81e8-02823a73cb83",
   "metadata": {},
   "outputs": [],
   "source": [
    "def pet_speak(pet):\n",
    "    print(pet.speak())"
   ]
  },
  {
   "cell_type": "code",
   "execution_count": 53,
   "id": "c9164713-6d7f-4afd-8e57-18c7a5e2f386",
   "metadata": {},
   "outputs": [
    {
     "name": "stdout",
     "output_type": "stream",
     "text": [
      "nikosays woof!\n",
      "None\n"
     ]
    }
   ],
   "source": [
    "pet_speak(niko)"
   ]
  },
  {
   "cell_type": "code",
   "execution_count": 54,
   "id": "a0ed5538-29bd-4e2b-b65a-16854cfc83d3",
   "metadata": {},
   "outputs": [
    {
     "name": "stdout",
     "output_type": "stream",
     "text": [
      "felixsays meow!\n",
      "None\n"
     ]
    }
   ],
   "source": [
    "pet_speak(felix)"
   ]
  },
  {
   "cell_type": "code",
   "execution_count": 57,
   "id": "3244695d-b6e6-419b-b723-9e8e5cac4d81",
   "metadata": {},
   "outputs": [],
   "source": [
    "class Animal():\n",
    "\n",
    "    def __init__(self,name):\n",
    "        self.name = name\n",
    "\n",
    "    #Abstract Method\n",
    "    #Logic to throw NotImplementedError until this method is inherited by other class\n",
    "    def speak(self):\n",
    "        raise NotImplementedError(\"Subclass must implement this abstract method\")"
   ]
  },
  {
   "cell_type": "code",
   "execution_count": 58,
   "id": "540a0f6e-788f-4727-a28a-771972739c75",
   "metadata": {},
   "outputs": [],
   "source": [
    "myanimal = Animal('fred')"
   ]
  },
  {
   "cell_type": "code",
   "execution_count": 59,
   "id": "097a86a8-1cab-47f4-8b45-33a6c0029130",
   "metadata": {},
   "outputs": [],
   "source": [
    "class Dog(Animal):\n",
    "\n",
    "    def speak(self):\n",
    "        return self.name + \" says woof!\""
   ]
  },
  {
   "cell_type": "code",
   "execution_count": 60,
   "id": "040eab0e-8441-4457-917a-6f01614557ea",
   "metadata": {},
   "outputs": [],
   "source": [
    "class Cat(Animal):\n",
    "\n",
    "    def speak(self):\n",
    "        return self.name  +  \" says meow!\""
   ]
  },
  {
   "cell_type": "code",
   "execution_count": 61,
   "id": "b25e6901-9c94-485a-9ee8-0399ecf490d9",
   "metadata": {},
   "outputs": [],
   "source": [
    "fido = Dog(\"Fido\")"
   ]
  },
  {
   "cell_type": "code",
   "execution_count": 62,
   "id": "5801f963-a6cf-4dfc-8248-3c37088bb72c",
   "metadata": {},
   "outputs": [],
   "source": [
    "isis = Cat(\"Isis\")"
   ]
  },
  {
   "cell_type": "code",
   "execution_count": 63,
   "id": "adfaddc1-789e-4b4f-a102-70306858514d",
   "metadata": {},
   "outputs": [
    {
     "name": "stdout",
     "output_type": "stream",
     "text": [
      "Fido says woof!\n"
     ]
    }
   ],
   "source": [
    "print(fido.speak())"
   ]
  },
  {
   "cell_type": "code",
   "execution_count": null,
   "id": "66a5fc09-d346-4d4a-a836-dae85a1584de",
   "metadata": {},
   "outputs": [],
   "source": []
  },
  {
   "cell_type": "code",
   "execution_count": 65,
   "id": "9f4fbc32-6d37-4ba4-989e-ad0201694163",
   "metadata": {},
   "outputs": [],
   "source": [
    "mylist = [1,2,3]"
   ]
  },
  {
   "cell_type": "code",
   "execution_count": 66,
   "id": "8af9844a-a19a-4a84-9b06-eaf98b5799ce",
   "metadata": {},
   "outputs": [
    {
     "data": {
      "text/plain": [
       "3"
      ]
     },
     "execution_count": 66,
     "metadata": {},
     "output_type": "execute_result"
    }
   ],
   "source": [
    "len(mylist)"
   ]
  },
  {
   "cell_type": "code",
   "execution_count": 98,
   "id": "f6eb68dd-fbdf-4183-b89e-21021efdec05",
   "metadata": {},
   "outputs": [],
   "source": [
    "## Special Methods/ Magic Methods \n",
    "\n",
    "class Book():\n",
    "\n",
    "    ## init is also special method because it is created when\n",
    "    def __init__(self,title,author,pages):\n",
    "        self.title = title\n",
    "        self.author = author\n",
    "        self.pages = pages\n",
    "\n",
    "    ## special method : equivalent to toString() in java\n",
    "    def __str__(self):\n",
    "        return f\"'{self.title}' by {self.author} with {self.pages} pages\"\n",
    "\n",
    "    ## special method :  length / nothing similar to one in java\n",
    "    ## Compulsory return integer\n",
    "    def __len__(self):\n",
    "        return self.pages\n",
    "\n",
    "    ## special method : for doing extra things when del method is called to delete object\n",
    "    def __del__(self):\n",
    "        print(\"A book object has been deleted\")"
   ]
  },
  {
   "cell_type": "code",
   "execution_count": 99,
   "id": "15558aa4-c590-4c66-937b-5810f25ca900",
   "metadata": {},
   "outputs": [],
   "source": [
    "b = Book('Python rocks','Jose',200)"
   ]
  },
  {
   "cell_type": "code",
   "execution_count": 100,
   "id": "aeeef219-040c-4ce4-bb84-94653733810e",
   "metadata": {},
   "outputs": [
    {
     "name": "stdout",
     "output_type": "stream",
     "text": [
      "'Python rocks' by Jose with 200 pages\n"
     ]
    }
   ],
   "source": [
    "print(b)"
   ]
  },
  {
   "cell_type": "code",
   "execution_count": 101,
   "id": "3abf9c66-df2f-4453-a0c2-c8990f390fe9",
   "metadata": {},
   "outputs": [
    {
     "data": {
      "text/plain": [
       "200"
      ]
     },
     "execution_count": 101,
     "metadata": {},
     "output_type": "execute_result"
    }
   ],
   "source": [
    "len(b)"
   ]
  },
  {
   "cell_type": "code",
   "execution_count": 102,
   "id": "396ff66a-eea0-4d71-bc4a-4d6bd8c76b39",
   "metadata": {},
   "outputs": [
    {
     "name": "stdout",
     "output_type": "stream",
     "text": [
      "A book object has been deleted\n"
     ]
    }
   ],
   "source": [
    "## delete variables from computer variable\n",
    "del b"
   ]
  },
  {
   "cell_type": "code",
   "execution_count": 96,
   "id": "7e51b1b9-7c51-41ee-8627-e36204708033",
   "metadata": {},
   "outputs": [
    {
     "ename": "NameError",
     "evalue": "name 'b' is not defined",
     "output_type": "error",
     "traceback": [
      "\u001b[1;31m---------------------------------------------------------------------------\u001b[0m",
      "\u001b[1;31mNameError\u001b[0m                                 Traceback (most recent call last)",
      "Cell \u001b[1;32mIn[96], line 1\u001b[0m\n\u001b[1;32m----> 1\u001b[0m \u001b[38;5;28mlen\u001b[39m(b)\n",
      "\u001b[1;31mNameError\u001b[0m: name 'b' is not defined"
     ]
    }
   ],
   "source": []
  },
  {
   "cell_type": "code",
   "execution_count": null,
   "id": "3c65a1f2-28a9-4b8a-8afd-ae99cf0391d8",
   "metadata": {},
   "outputs": [],
   "source": []
  }
 ],
 "metadata": {
  "kernelspec": {
   "display_name": "Python 3 (ipykernel)",
   "language": "python",
   "name": "python3"
  },
  "language_info": {
   "codemirror_mode": {
    "name": "ipython",
    "version": 3
   },
   "file_extension": ".py",
   "mimetype": "text/x-python",
   "name": "python",
   "nbconvert_exporter": "python",
   "pygments_lexer": "ipython3",
   "version": "3.11.7"
  }
 },
 "nbformat": 4,
 "nbformat_minor": 5
}
