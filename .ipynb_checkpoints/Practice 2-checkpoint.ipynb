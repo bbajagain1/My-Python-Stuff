{
 "cells": [
  {
   "cell_type": "code",
   "execution_count": 1,
   "id": "5c5d0897-f6d2-40d8-bf57-d20f45b18fbc",
   "metadata": {},
   "outputs": [],
   "source": [
    "mylist = [1,2,3]"
   ]
  },
  {
   "cell_type": "code",
   "execution_count": 2,
   "id": "4174ba13-6a46-45b0-9c45-1120663169f5",
   "metadata": {},
   "outputs": [],
   "source": [
    "mylist.append(4)"
   ]
  },
  {
   "cell_type": "code",
   "execution_count": 3,
   "id": "6d9ab73b-5816-4049-8cc8-1ec0fd34e166",
   "metadata": {},
   "outputs": [
    {
     "data": {
      "text/plain": [
       "[1, 2, 3, 4]"
      ]
     },
     "execution_count": 3,
     "metadata": {},
     "output_type": "execute_result"
    }
   ],
   "source": [
    "mylist"
   ]
  },
  {
   "cell_type": "code",
   "execution_count": 4,
   "id": "fae80e43-1da2-42f5-876e-3d6f5961e519",
   "metadata": {},
   "outputs": [
    {
     "data": {
      "text/plain": [
       "4"
      ]
     },
     "execution_count": 4,
     "metadata": {},
     "output_type": "execute_result"
    }
   ],
   "source": [
    "mylist.pop()"
   ]
  },
  {
   "cell_type": "code",
   "execution_count": 5,
   "id": "323bbe8f-82d9-4b37-a74d-59007efe31bd",
   "metadata": {},
   "outputs": [
    {
     "data": {
      "text/plain": [
       "[1, 2, 3]"
      ]
     },
     "execution_count": 5,
     "metadata": {},
     "output_type": "execute_result"
    }
   ],
   "source": [
    "mylist"
   ]
  },
  {
   "cell_type": "code",
   "execution_count": 6,
   "id": "7f77d341-0298-4b8b-82f4-e5c56f8ba753",
   "metadata": {},
   "outputs": [
    {
     "name": "stdout",
     "output_type": "stream",
     "text": [
      "Help on built-in function insert:\n",
      "\n",
      "insert(index, object, /) method of builtins.list instance\n",
      "    Insert object before index.\n",
      "\n"
     ]
    }
   ],
   "source": [
    "help(mylist.insert)"
   ]
  },
  {
   "cell_type": "code",
   "execution_count": 1,
   "id": "625f687a-4ae0-42c7-a641-47b9a331c116",
   "metadata": {},
   "outputs": [],
   "source": [
    "def abc_function():\n",
    "    return \"0\""
   ]
  },
  {
   "cell_type": "code",
   "execution_count": 2,
   "id": "727d0d50-d3c2-49a5-bab7-06249c80a1b5",
   "metadata": {},
   "outputs": [
    {
     "data": {
      "text/plain": [
       "'0'"
      ]
     },
     "execution_count": 2,
     "metadata": {},
     "output_type": "execute_result"
    }
   ],
   "source": [
    "abc_function()"
   ]
  },
  {
   "cell_type": "code",
   "execution_count": 3,
   "id": "57efa99a-0173-492c-aa63-1eeffcfe39c4",
   "metadata": {},
   "outputs": [],
   "source": [
    "def abc_function():\n",
    "    '''\n",
    "    docstring explains fuinction\n",
    "    '''\n",
    "    print(\"hello\")"
   ]
  },
  {
   "cell_type": "code",
   "execution_count": 4,
   "id": "42f556d3-19d9-4efd-8805-2494c1f2d41b",
   "metadata": {},
   "outputs": [
    {
     "name": "stdout",
     "output_type": "stream",
     "text": [
      "hello\n"
     ]
    }
   ],
   "source": [
    "abc_function()"
   ]
  },
  {
   "cell_type": "code",
   "execution_count": 5,
   "id": "ff922734-67ea-4a18-8304-57364e220556",
   "metadata": {},
   "outputs": [],
   "source": [
    "def name_of_function(name):\n",
    "    '''\n",
    "    docstring\n",
    "    '''\n",
    "    return (\"hello\" + name)"
   ]
  },
  {
   "cell_type": "markdown",
   "id": "f33a63c1-c293-47c3-b59a-33c3e61a268d",
   "metadata": {},
   "source": []
  },
  {
   "cell_type": "code",
   "execution_count": 6,
   "id": "67792e8c-06f2-4244-bff8-e90bb14cf007",
   "metadata": {},
   "outputs": [
    {
     "data": {
      "text/plain": [
       "'helloabc'"
      ]
     },
     "execution_count": 6,
     "metadata": {},
     "output_type": "execute_result"
    }
   ],
   "source": [
    "name_of_function(\"abc\")"
   ]
  },
  {
   "cell_type": "code",
   "execution_count": 7,
   "id": "ec4add28-59dd-42bd-8e85-cafd657e6ae7",
   "metadata": {},
   "outputs": [],
   "source": [
    "def add_function(num1,num2):\n",
    "    return num1+num2"
   ]
  },
  {
   "cell_type": "code",
   "execution_count": 8,
   "id": "ed12c7ba-0f89-4778-b197-a66f0565f71c",
   "metadata": {},
   "outputs": [],
   "source": [
    "a = add_function(1,2)"
   ]
  },
  {
   "cell_type": "code",
   "execution_count": 9,
   "id": "638c9dcd-4aab-4e6a-86e5-18962432cb42",
   "metadata": {},
   "outputs": [
    {
     "data": {
      "text/plain": [
       "3"
      ]
     },
     "execution_count": 9,
     "metadata": {},
     "output_type": "execute_result"
    }
   ],
   "source": [
    "a"
   ]
  },
  {
   "cell_type": "code",
   "execution_count": 10,
   "id": "6df07784-1060-45fe-a986-2181b49edf1c",
   "metadata": {},
   "outputs": [],
   "source": [
    "def say_hello():\n",
    "    print('say hello')"
   ]
  },
  {
   "cell_type": "code",
   "execution_count": 11,
   "id": "5800b1e7-ecbd-4cf1-986f-702a4aed2446",
   "metadata": {},
   "outputs": [
    {
     "name": "stdout",
     "output_type": "stream",
     "text": [
      "say hello\n"
     ]
    }
   ],
   "source": [
    "say_hello()"
   ]
  },
  {
   "cell_type": "code",
   "execution_count": 12,
   "id": "9ca75406-2c43-4a80-9486-8b9de755bcc6",
   "metadata": {},
   "outputs": [
    {
     "data": {
      "text/plain": [
       "<function __main__.say_hello()>"
      ]
     },
     "execution_count": 12,
     "metadata": {},
     "output_type": "execute_result"
    }
   ],
   "source": [
    "say_hello"
   ]
  },
  {
   "cell_type": "code",
   "execution_count": 13,
   "id": "825b762f-5b62-4f52-bfa4-f43c48fcdfa5",
   "metadata": {},
   "outputs": [
    {
     "name": "stdout",
     "output_type": "stream",
     "text": [
      "Help on function say_hello in module __main__:\n",
      "\n",
      "say_hello()\n",
      "\n"
     ]
    }
   ],
   "source": [
    "help(say_hello)"
   ]
  },
  {
   "cell_type": "code",
   "execution_count": 14,
   "id": "d43564b7-48ed-4b3d-99ab-b0bf6c8432df",
   "metadata": {},
   "outputs": [
    {
     "name": "stdout",
     "output_type": "stream",
     "text": [
      "Help on built-in function len in module builtins:\n",
      "\n",
      "len(obj, /)\n",
      "    Return the number of items in a container.\n",
      "\n"
     ]
    }
   ],
   "source": [
    "help(len)"
   ]
  },
  {
   "cell_type": "code",
   "execution_count": 20,
   "id": "351482d9-81c6-47ea-8dbe-a3862ffa92c0",
   "metadata": {},
   "outputs": [],
   "source": [
    "def say_hello(name='Default'):\n",
    "    print(f'Hello {name}')"
   ]
  },
  {
   "cell_type": "code",
   "execution_count": 21,
   "id": "ee3dd130-eb5f-41c4-a1bc-de31467d3f1d",
   "metadata": {},
   "outputs": [
    {
     "name": "stdout",
     "output_type": "stream",
     "text": [
      "Hello Default\n"
     ]
    }
   ],
   "source": [
    "say_hello()"
   ]
  },
  {
   "cell_type": "code",
   "execution_count": 22,
   "id": "204bc8c1-3769-4990-bfbb-e6572af8ef7b",
   "metadata": {},
   "outputs": [],
   "source": [
    "def add_num(num1,num2):\n",
    "    return num1+num2"
   ]
  },
  {
   "cell_type": "code",
   "execution_count": 24,
   "id": "4c1afea7-fc1b-4b5f-91e4-f246921ed523",
   "metadata": {},
   "outputs": [],
   "source": [
    "sum = add_num(2,3)"
   ]
  },
  {
   "cell_type": "code",
   "execution_count": 25,
   "id": "6cfd2d1b-fb8f-4c56-92c2-5c4bcab98558",
   "metadata": {},
   "outputs": [
    {
     "data": {
      "text/plain": [
       "5"
      ]
     },
     "execution_count": 25,
     "metadata": {},
     "output_type": "execute_result"
    }
   ],
   "source": [
    "sum"
   ]
  },
  {
   "cell_type": "code",
   "execution_count": 26,
   "id": "760772e4-769c-4069-a53e-0bc2f654d87c",
   "metadata": {},
   "outputs": [
    {
     "ename": "NameError",
     "evalue": "name 'return_result' is not defined",
     "output_type": "error",
     "traceback": [
      "\u001b[1;31m---------------------------------------------------------------------------\u001b[0m",
      "\u001b[1;31mNameError\u001b[0m                                 Traceback (most recent call last)",
      "Cell \u001b[1;32mIn[26], line 1\u001b[0m\n\u001b[1;32m----> 1\u001b[0m return_result(\u001b[38;5;241m10\u001b[39m,\u001b[38;5;241m20\u001b[39m)\n",
      "\u001b[1;31mNameError\u001b[0m: name 'return_result' is not defined"
     ]
    }
   ],
   "source": [
    "return_result(10,20)"
   ]
  },
  {
   "cell_type": "code",
   "execution_count": 27,
   "id": "e3765089-fe3b-48a4-bca8-791b6d82d395",
   "metadata": {},
   "outputs": [
    {
     "ename": "SyntaxError",
     "evalue": "invalid syntax (2037036990.py, line 1)",
     "output_type": "error",
     "traceback": [
      "\u001b[1;36m  Cell \u001b[1;32mIn[27], line 1\u001b[1;36m\u001b[0m\n\u001b[1;33m    def return_result(10,20):\u001b[0m\n\u001b[1;37m                      ^\u001b[0m\n\u001b[1;31mSyntaxError\u001b[0m\u001b[1;31m:\u001b[0m invalid syntax\n"
     ]
    }
   ],
   "source": [
    "def return_result(10,20):\n",
    "    return 10 +20"
   ]
  },
  {
   "cell_type": "code",
   "execution_count": 28,
   "id": "e24eb697-8e05-48ed-bf9b-6d8b7d99c877",
   "metadata": {},
   "outputs": [],
   "source": [
    "def myfunc(a,b):\n",
    "    print(a+b)\n",
    "    return a+b"
   ]
  },
  {
   "cell_type": "code",
   "execution_count": 29,
   "id": "605b7dba-6fc1-439c-9a3a-23c317004c92",
   "metadata": {},
   "outputs": [
    {
     "name": "stdout",
     "output_type": "stream",
     "text": [
      "30\n"
     ]
    }
   ],
   "source": [
    "abc = myfunc(10,20)"
   ]
  },
  {
   "cell_type": "code",
   "execution_count": 30,
   "id": "9553aadc-f76f-4ef5-a7b6-c7d874ba2795",
   "metadata": {},
   "outputs": [
    {
     "data": {
      "text/plain": [
       "30"
      ]
     },
     "execution_count": 30,
     "metadata": {},
     "output_type": "execute_result"
    }
   ],
   "source": [
    "abc"
   ]
  },
  {
   "cell_type": "code",
   "execution_count": 31,
   "id": "7464ba3e-6130-426e-aeb6-9e30b13463ea",
   "metadata": {},
   "outputs": [],
   "source": [
    "def sum_numbers(num1,num2):\n",
    "    return num1+num2"
   ]
  },
  {
   "cell_type": "code",
   "execution_count": 32,
   "id": "29869d42-ec38-49f7-8742-539d1b6502ee",
   "metadata": {},
   "outputs": [
    {
     "ename": "TypeError",
     "evalue": "unsupported operand type(s) for +: 'int' and 'str'",
     "output_type": "error",
     "traceback": [
      "\u001b[1;31m---------------------------------------------------------------------------\u001b[0m",
      "\u001b[1;31mTypeError\u001b[0m                                 Traceback (most recent call last)",
      "Cell \u001b[1;32mIn[32], line 1\u001b[0m\n\u001b[1;32m----> 1\u001b[0m sum_numbers(\u001b[38;5;241m10\u001b[39m,\u001b[38;5;124m'\u001b[39m\u001b[38;5;124m20\u001b[39m\u001b[38;5;124m'\u001b[39m)\n",
      "Cell \u001b[1;32mIn[31], line 2\u001b[0m, in \u001b[0;36msum_numbers\u001b[1;34m(num1, num2)\u001b[0m\n\u001b[0;32m      1\u001b[0m \u001b[38;5;28;01mdef\u001b[39;00m \u001b[38;5;21msum_numbers\u001b[39m(num1,num2):\n\u001b[1;32m----> 2\u001b[0m     \u001b[38;5;28;01mreturn\u001b[39;00m num1\u001b[38;5;241m+\u001b[39mnum2\n",
      "\u001b[1;31mTypeError\u001b[0m: unsupported operand type(s) for +: 'int' and 'str'"
     ]
    }
   ],
   "source": [
    "sum_numbers(10,'20')"
   ]
  },
  {
   "cell_type": "code",
   "execution_count": 33,
   "id": "aadbf49f-15d5-4fa3-bdbf-9a3edd1cdfe3",
   "metadata": {},
   "outputs": [
    {
     "data": {
      "text/plain": [
       "0"
      ]
     },
     "execution_count": 33,
     "metadata": {},
     "output_type": "execute_result"
    }
   ],
   "source": [
    "2 % 2"
   ]
  },
  {
   "cell_type": "code",
   "execution_count": 34,
   "id": "fd968510-c176-4bee-ae98-dc9d0df53ee1",
   "metadata": {},
   "outputs": [
    {
     "data": {
      "text/plain": [
       "1"
      ]
     },
     "execution_count": 34,
     "metadata": {},
     "output_type": "execute_result"
    }
   ],
   "source": [
    "3 % 2"
   ]
  },
  {
   "cell_type": "code",
   "execution_count": 35,
   "id": "0450d4ff-ddf1-4d49-8139-830e7b1d79fc",
   "metadata": {},
   "outputs": [
    {
     "data": {
      "text/plain": [
       "1"
      ]
     },
     "execution_count": 35,
     "metadata": {},
     "output_type": "execute_result"
    }
   ],
   "source": [
    "41 % 40"
   ]
  },
  {
   "cell_type": "code",
   "execution_count": 36,
   "id": "1b9f9c49-43b4-4edf-b9e0-bda897a78a22",
   "metadata": {},
   "outputs": [
    {
     "data": {
      "text/plain": [
       "0"
      ]
     },
     "execution_count": 36,
     "metadata": {},
     "output_type": "execute_result"
    }
   ],
   "source": [
    "20 % 2"
   ]
  },
  {
   "cell_type": "code",
   "execution_count": 39,
   "id": "61573db0-5d37-459b-ad2b-efe1b572092a",
   "metadata": {},
   "outputs": [],
   "source": [
    "def even_check(number):\n",
    "    return number % 2 == 0"
   ]
  },
  {
   "cell_type": "code",
   "execution_count": 40,
   "id": "45e163e8-7b52-42f9-b85c-38ca11dd4b1c",
   "metadata": {},
   "outputs": [
    {
     "data": {
      "text/plain": [
       "True"
      ]
     },
     "execution_count": 40,
     "metadata": {},
     "output_type": "execute_result"
    }
   ],
   "source": [
    "even_check(20)"
   ]
  },
  {
   "cell_type": "code",
   "execution_count": 60,
   "id": "1c1e0c81-95c7-47e9-bc8f-e1b9216ef0df",
   "metadata": {},
   "outputs": [],
   "source": [
    "# Return true if any number is even inside a list\n",
    "def check_even_list(num_list):\n",
    "    ##return all the even numbers in a list\n",
    "\n",
    "    ##placeholder variables\n",
    "    even_numbers = []\n",
    "    \n",
    "    for number in num_list:\n",
    "        if number % 2 == 0:\n",
    "            return even_numbers.append(number)\n",
    "        else:\n",
    "            pass\n",
    "    return even_numbers    \n",
    "        "
   ]
  },
  {
   "cell_type": "code",
   "execution_count": 62,
   "id": "83c6ecea-8f2e-40f8-a9e6-b65ecc94a574",
   "metadata": {},
   "outputs": [],
   "source": [
    "check_even_list([1,2,3,4,5])"
   ]
  },
  {
   "cell_type": "code",
   "execution_count": 58,
   "id": "6c4d416a-b6e6-4eea-9eab-56ee9cbb7aa0",
   "metadata": {},
   "outputs": [],
   "source": [
    "abc"
   ]
  },
  {
   "cell_type": "code",
   "execution_count": 59,
   "id": "892392d2-2743-488c-ba9d-ba0ba24729c5",
   "metadata": {},
   "outputs": [
    {
     "name": "stdout",
     "output_type": "stream",
     "text": [
      "None\n"
     ]
    }
   ],
   "source": [
    "print(abc)"
   ]
  },
  {
   "cell_type": "code",
   "execution_count": 63,
   "id": "3f1c002d-fb3e-4479-a49f-f1c8c5df9334",
   "metadata": {},
   "outputs": [],
   "source": [
    "stock_prices = [('APPL',200),('GOOG',400),('MSFT',100)]"
   ]
  },
  {
   "cell_type": "code",
   "execution_count": 64,
   "id": "2edb86ac-3fe8-49d8-b6a7-c97b55fbff4b",
   "metadata": {},
   "outputs": [
    {
     "name": "stdout",
     "output_type": "stream",
     "text": [
      "('APPL', 200)\n",
      "('GOOG', 400)\n",
      "('MSFT', 100)\n"
     ]
    }
   ],
   "source": [
    "for item in stock_prices:\n",
    "    print(item)"
   ]
  },
  {
   "cell_type": "code",
   "execution_count": 65,
   "id": "8eac6b66-9f62-4cdc-996b-eca0a5c4bb10",
   "metadata": {},
   "outputs": [
    {
     "name": "stdout",
     "output_type": "stream",
     "text": [
      "220.0\n",
      "440.0\n",
      "110.0\n"
     ]
    }
   ],
   "source": [
    "for ticker, price in stock_prices:\n",
    "    print(price + (0.1*price))"
   ]
  },
  {
   "cell_type": "code",
   "execution_count": 6,
   "id": "dcd25558-6405-40e9-9a01-8be8171d6720",
   "metadata": {},
   "outputs": [],
   "source": [
    "work_hours = [('Abby', 100),('Billy',400),('Cassie',800)]"
   ]
  },
  {
   "cell_type": "code",
   "execution_count": 9,
   "id": "9099cf14-17d1-4085-8811-ae84cdf3a3eb",
   "metadata": {},
   "outputs": [],
   "source": [
    "def employee_check(work_hours):\n",
    "\n",
    "    current_max = 0\n",
    "    employee_of_month = ''\n",
    "    for employee,hours in work_hours:\n",
    "        if hours > current_max:\n",
    "            current_max = hours\n",
    "            employee_of_month = employee\n",
    "        else:\n",
    "            pass\n",
    "\n",
    "    return (employee_of_month,current_max)"
   ]
  },
  {
   "cell_type": "code",
   "execution_count": 10,
   "id": "ad5c091f-4e4d-4e6a-acad-e71a0bb27a78",
   "metadata": {},
   "outputs": [
    {
     "data": {
      "text/plain": [
       "('Cassie', 800)"
      ]
     },
     "execution_count": 10,
     "metadata": {},
     "output_type": "execute_result"
    }
   ],
   "source": [
    "employee_check(work_hours)"
   ]
  },
  {
   "cell_type": "code",
   "execution_count": 11,
   "id": "22eca3cf-281d-4974-8c34-d95e22df147f",
   "metadata": {},
   "outputs": [],
   "source": [
    "name,hours = employee_check(work_hours)"
   ]
  },
  {
   "cell_type": "code",
   "execution_count": 12,
   "id": "eb80debc-2d17-49b5-932d-e872873ecaf7",
   "metadata": {},
   "outputs": [
    {
     "data": {
      "text/plain": [
       "'Cassie'"
      ]
     },
     "execution_count": 12,
     "metadata": {},
     "output_type": "execute_result"
    }
   ],
   "source": [
    "name"
   ]
  },
  {
   "cell_type": "code",
   "execution_count": 13,
   "id": "0f73fd12-6ad8-4404-b482-413fb87a7fe6",
   "metadata": {},
   "outputs": [
    {
     "data": {
      "text/plain": [
       "800"
      ]
     },
     "execution_count": 13,
     "metadata": {},
     "output_type": "execute_result"
    }
   ],
   "source": [
    "hours"
   ]
  },
  {
   "cell_type": "code",
   "execution_count": 14,
   "id": "ea197981-5788-4065-907a-8546cf76b147",
   "metadata": {},
   "outputs": [],
   "source": [
    "example = [1,2,3,4,5,6,7]"
   ]
  },
  {
   "cell_type": "code",
   "execution_count": 15,
   "id": "516b0e0e-a411-4fa4-aba0-50bcc891830f",
   "metadata": {},
   "outputs": [],
   "source": [
    "from random import shuffle"
   ]
  },
  {
   "cell_type": "code",
   "execution_count": 16,
   "id": "1b31f041-d6cd-4419-aa96-70d2f5b135e7",
   "metadata": {},
   "outputs": [
    {
     "ename": "TypeError",
     "evalue": "'method' object is not subscriptable",
     "output_type": "error",
     "traceback": [
      "\u001b[1;31m---------------------------------------------------------------------------\u001b[0m",
      "\u001b[1;31mTypeError\u001b[0m                                 Traceback (most recent call last)",
      "Cell \u001b[1;32mIn[16], line 1\u001b[0m\n\u001b[1;32m----> 1\u001b[0m shuffle[example]\n",
      "\u001b[1;31mTypeError\u001b[0m: 'method' object is not subscriptable"
     ]
    }
   ],
   "source": [
    "shuffle[example]"
   ]
  },
  {
   "cell_type": "code",
   "execution_count": 17,
   "id": "4b836a9f-000a-46cb-b50f-7dd2bff2874a",
   "metadata": {},
   "outputs": [],
   "source": [
    "shuffle(example)"
   ]
  },
  {
   "cell_type": "code",
   "execution_count": 18,
   "id": "7f8df71d-8109-4252-86bc-c3f815d204fb",
   "metadata": {},
   "outputs": [
    {
     "data": {
      "text/plain": [
       "[2, 6, 3, 7, 1, 4, 5]"
      ]
     },
     "execution_count": 18,
     "metadata": {},
     "output_type": "execute_result"
    }
   ],
   "source": [
    "example"
   ]
  },
  {
   "cell_type": "code",
   "execution_count": 19,
   "id": "a34baa18-ff53-4aae-863d-22b6674b98f0",
   "metadata": {},
   "outputs": [],
   "source": [
    "def shuffle_list(mylist):\n",
    "    shuffle(mylist)\n",
    "    return mylist"
   ]
  },
  {
   "cell_type": "code",
   "execution_count": 22,
   "id": "28767bf3-767b-442c-bf36-f32b25dafe1a",
   "metadata": {},
   "outputs": [],
   "source": [
    "result = shuffle_list(example)"
   ]
  },
  {
   "cell_type": "code",
   "execution_count": 23,
   "id": "0068abea-166f-4b9b-87e9-df48b735b793",
   "metadata": {},
   "outputs": [
    {
     "data": {
      "text/plain": [
       "[7, 2, 4, 1, 3, 6, 5]"
      ]
     },
     "execution_count": 23,
     "metadata": {},
     "output_type": "execute_result"
    }
   ],
   "source": [
    "result"
   ]
  },
  {
   "cell_type": "code",
   "execution_count": 24,
   "id": "924de39b-d69c-4089-b4ce-28b8830408b0",
   "metadata": {},
   "outputs": [],
   "source": [
    "def player_guess():\n",
    "    guess=''\n",
    "    while guess not in ['0','1','2']:\n",
    "        guess = input(\"Pick a number: 0,1 or 2\")\n",
    "\n",
    "    return int(guess)"
   ]
  },
  {
   "cell_type": "code",
   "execution_count": 25,
   "id": "27781120-7076-4a9b-8fcd-94469485dfe4",
   "metadata": {},
   "outputs": [
    {
     "name": "stdin",
     "output_type": "stream",
     "text": [
      "Pick a number: 0,1 or 2 3\n",
      "Pick a number: 0,1 or 2 0\n"
     ]
    },
    {
     "data": {
      "text/plain": [
       "0"
      ]
     },
     "execution_count": 25,
     "metadata": {},
     "output_type": "execute_result"
    }
   ],
   "source": [
    "player_guess()"
   ]
  },
  {
   "cell_type": "code",
   "execution_count": 26,
   "id": "a31d335d-2c28-4ba0-99f8-1ee396b47feb",
   "metadata": {},
   "outputs": [
    {
     "name": "stdin",
     "output_type": "stream",
     "text": [
      "Pick a number: 0,1 or 2 2\n"
     ]
    }
   ],
   "source": [
    "myindex = player_guess()"
   ]
  },
  {
   "cell_type": "code",
   "execution_count": 27,
   "id": "6eff258b-5691-4848-b27a-338030a88b63",
   "metadata": {},
   "outputs": [
    {
     "data": {
      "text/plain": [
       "2"
      ]
     },
     "execution_count": 27,
     "metadata": {},
     "output_type": "execute_result"
    }
   ],
   "source": [
    "myindex"
   ]
  },
  {
   "cell_type": "code",
   "execution_count": 33,
   "id": "8e366398-9467-4c0a-ac74-77ff57a25163",
   "metadata": {},
   "outputs": [],
   "source": [
    "def check_guess(mylist,guess):\n",
    "    if mylist[guess] == 'O':\n",
    "        print(\"Correct!\")\n",
    "    else:\n",
    "        print(\"Wrong guess!\")\n",
    "        print(mylist)"
   ]
  },
  {
   "cell_type": "code",
   "execution_count": 34,
   "id": "2481e1b4-f32d-4c41-974b-c0a40b58912c",
   "metadata": {},
   "outputs": [
    {
     "name": "stdin",
     "output_type": "stream",
     "text": [
      "Pick a number: 0,1 or 2 0\n"
     ]
    },
    {
     "name": "stdout",
     "output_type": "stream",
     "text": [
      "Wrong guess!\n",
      "[' ', ' ', 'O']\n"
     ]
    }
   ],
   "source": [
    "## INITIAL LIST\n",
    "mylist = [' ', 'O',' ']\n",
    "## SHUFFLE LIST\n",
    "mixedup_list = shuffle_list(mylist)\n",
    "## USER GUESS\n",
    "guess = player_guess()\n",
    "## CHECK GUESS\n",
    "check_guess(mixedup_list, guess)"
   ]
  },
  {
   "cell_type": "code",
   "execution_count": 35,
   "id": "2b0a4c4a-e0c5-4cb8-9295-5de159e24ff4",
   "metadata": {},
   "outputs": [],
   "source": [
    "def myfunc(a,b):\n",
    "    # returns 5% of the sum of a and b\n",
    "    return sum((a,b)) * 0.05"
   ]
  },
  {
   "cell_type": "code",
   "execution_count": 36,
   "id": "ac099f78-0a3e-4c2f-9066-ba0ffed292ac",
   "metadata": {},
   "outputs": [
    {
     "data": {
      "text/plain": [
       "5.0"
      ]
     },
     "execution_count": 36,
     "metadata": {},
     "output_type": "execute_result"
    }
   ],
   "source": [
    "myfunc(40,60)"
   ]
  },
  {
   "cell_type": "code",
   "execution_count": 37,
   "id": "5195c731-0eb8-41df-90d2-6c5481e4e240",
   "metadata": {},
   "outputs": [],
   "source": [
    "def myfunc(*args):\n",
    "    return sum(args) * 0.05"
   ]
  },
  {
   "cell_type": "code",
   "execution_count": 40,
   "id": "a6c64b40-a060-4650-b51c-a3c42e787ebc",
   "metadata": {},
   "outputs": [
    {
     "data": {
      "text/plain": [
       "51.6"
      ]
     },
     "execution_count": 40,
     "metadata": {},
     "output_type": "execute_result"
    }
   ],
   "source": [
    "myfunc(40,60,50,60,9,84,654,45,30)"
   ]
  },
  {
   "cell_type": "code",
   "execution_count": 43,
   "id": "8513a0a1-e058-449e-9977-7f7a8711d314",
   "metadata": {},
   "outputs": [],
   "source": [
    "def myfunc(**kwargs):\n",
    "    print(kwargs)\n",
    "    if 'fruit' in kwargs:\n",
    "        print('My fruit of choice is {}'.format(kwargs['fruit']))\n",
    "    else:\n",
    "        print('i did not find any fruit here')"
   ]
  },
  {
   "cell_type": "code",
   "execution_count": 46,
   "id": "07d7642a-f057-4e31-a314-f606975dfed3",
   "metadata": {},
   "outputs": [
    {
     "name": "stdout",
     "output_type": "stream",
     "text": [
      "{'fruit': '', 'veggie': 'lettuce'}\n",
      "My fruit of choice is \n"
     ]
    }
   ],
   "source": [
    "myfunc(fruit='',veggie = 'lettuce')"
   ]
  },
  {
   "cell_type": "code",
   "execution_count": 49,
   "id": "390260a2-1281-4cf7-a6de-a7de7fb31106",
   "metadata": {},
   "outputs": [],
   "source": [
    "def myfunc(*args,**kwargs):\n",
    "    print(args)\n",
    "    print(kwargs)\n",
    "    print('i would like {} {}'.format(args[0],kwargs['food']))"
   ]
  },
  {
   "cell_type": "code",
   "execution_count": 50,
   "id": "77c2f248-5447-43c6-b0bb-2c43057ed03a",
   "metadata": {},
   "outputs": [
    {
     "name": "stdout",
     "output_type": "stream",
     "text": [
      "(10, 20, 30, 40)\n",
      "{'fruits': 'orange', 'food': 'egg', 'animal': 'dog'}\n",
      "i would like 10 egg\n"
     ]
    }
   ],
   "source": [
    "myfunc(10,20,30,40,fruits='orange',food='egg',animal='dog')"
   ]
  },
  {
   "cell_type": "code",
   "execution_count": 1,
   "id": "6a7935ac-e74d-46fb-9d1e-19fce3bd2e63",
   "metadata": {},
   "outputs": [],
   "source": [
    "def return_result(a,b):\n",
    "    return a+b"
   ]
  },
  {
   "cell_type": "raw",
   "id": "e591d658-097b-4139-a942-f93498f5f72b",
   "metadata": {},
   "source": []
  },
  {
   "cell_type": "code",
   "execution_count": 2,
   "id": "ed6fdd49-02c8-472f-90d7-b4ca1f0c0678",
   "metadata": {},
   "outputs": [
    {
     "data": {
      "text/plain": [
       "30"
      ]
     },
     "execution_count": 2,
     "metadata": {},
     "output_type": "execute_result"
    }
   ],
   "source": [
    "return_result(10,20)"
   ]
  },
  {
   "cell_type": "code",
   "execution_count": 4,
   "id": "9130f52b-fdaf-4e55-8cde-8d7e7d604b93",
   "metadata": {},
   "outputs": [],
   "source": [
    "result = return_result(10,20)"
   ]
  },
  {
   "cell_type": "code",
   "execution_count": 7,
   "id": "056f3ee2-63bb-4b03-a4a7-7c2a167963f5",
   "metadata": {},
   "outputs": [],
   "source": [
    "def sum_numbers(num1,num2):\n",
    "    return num1+num2;"
   ]
  },
  {
   "cell_type": "code",
   "execution_count": 11,
   "id": "34d28569-7476-43a9-9855-0a37e6eaf70f",
   "metadata": {},
   "outputs": [
    {
     "data": {
      "text/plain": [
       "0"
      ]
     },
     "execution_count": 11,
     "metadata": {},
     "output_type": "execute_result"
    }
   ],
   "source": [
    "2 % 2"
   ]
  },
  {
   "cell_type": "code",
   "execution_count": 12,
   "id": "dfa7f08a-5546-43a7-ad57-f9b06f88ca0f",
   "metadata": {},
   "outputs": [
    {
     "data": {
      "text/plain": [
       "1"
      ]
     },
     "execution_count": 12,
     "metadata": {},
     "output_type": "execute_result"
    }
   ],
   "source": [
    "3 % 2"
   ]
  },
  {
   "cell_type": "code",
   "execution_count": 13,
   "id": "8d664bed-b466-42b8-9830-fc375099016c",
   "metadata": {},
   "outputs": [
    {
     "data": {
      "text/plain": [
       "0"
      ]
     },
     "execution_count": 13,
     "metadata": {},
     "output_type": "execute_result"
    }
   ],
   "source": [
    "20 % 2"
   ]
  },
  {
   "cell_type": "code",
   "execution_count": 16,
   "id": "37d52f28-c7fd-4dbc-be6d-f7f74bad8cf0",
   "metadata": {},
   "outputs": [],
   "source": [
    "def check_even_list(num_list):\n",
    "    for number in num_list:\n",
    "        if number % 2 == 0:\n",
    "            return True\n",
    "        else:\n",
    "            pass"
   ]
  },
  {
   "cell_type": "code",
   "execution_count": 19,
   "id": "22ae8927-bb58-496f-9e9e-d2eedf6c01e1",
   "metadata": {},
   "outputs": [],
   "source": [
    "check_even_list([1])"
   ]
  },
  {
   "cell_type": "code",
   "execution_count": 21,
   "id": "d5220fef-89df-4e5a-81b6-75c28107b980",
   "metadata": {},
   "outputs": [],
   "source": [
    "def check_even_list(num_list):\n",
    "    even_number = []\n",
    "    for number in num_list:\n",
    "        if number % 2 == 0:\n",
    "            even_number.append(number)\n",
    "        else:\n",
    "            pass\n",
    "    return even_number"
   ]
  },
  {
   "cell_type": "code",
   "execution_count": 22,
   "id": "f4647440-7e4c-4353-b61c-0bd3f0506cbf",
   "metadata": {},
   "outputs": [
    {
     "data": {
      "text/plain": [
       "[2, 6]"
      ]
     },
     "execution_count": 22,
     "metadata": {},
     "output_type": "execute_result"
    }
   ],
   "source": [
    "check_even_list([2,5,6,7])"
   ]
  },
  {
   "cell_type": "code",
   "execution_count": null,
   "id": "550644fb-dd12-4c22-9236-f98a7aa38fcd",
   "metadata": {},
   "outputs": [],
   "source": [
    "stock_prices[('AAPL',200),('')]"
   ]
  },
  {
   "cell_type": "code",
   "execution_count": 1,
   "id": "3fe0c152-a8e7-462f-9a63-39a08624ed3b",
   "metadata": {},
   "outputs": [],
   "source": [
    "from random import shuffle"
   ]
  },
  {
   "cell_type": "code",
   "execution_count": 2,
   "id": "09da7055-920c-4c61-9d72-942c09c26455",
   "metadata": {},
   "outputs": [],
   "source": [
    "example = [1,2,3,4,5,6,7]"
   ]
  },
  {
   "cell_type": "code",
   "execution_count": 5,
   "id": "563b22cc-87de-4fa3-b3da-50f35d091b37",
   "metadata": {},
   "outputs": [],
   "source": [
    "result = shuffle(example)"
   ]
  },
  {
   "cell_type": "raw",
   "id": "7b1be7b7-c2c2-44cf-9729-ab04bc399293",
   "metadata": {},
   "source": [
    "result"
   ]
  },
  {
   "cell_type": "code",
   "execution_count": 8,
   "id": "d7bc800c-5dc1-46ea-9560-345743daca0c",
   "metadata": {},
   "outputs": [],
   "source": [
    "def shuffle_list(mylist):\n",
    "    shuffle(mylist)\n",
    "    return mylist"
   ]
  },
  {
   "cell_type": "code",
   "execution_count": 12,
   "id": "7f1be51d-d6c5-4a31-b70b-7fb1a33db558",
   "metadata": {},
   "outputs": [],
   "source": [
    "result = shuffle_list(example)"
   ]
  },
  {
   "cell_type": "raw",
   "id": "917c282a-66e3-4f64-a3a6-e8ef68783930",
   "metadata": {},
   "source": [
    "result"
   ]
  },
  {
   "cell_type": "code",
   "execution_count": 10,
   "id": "603faef0-7aa7-40a0-85d5-ae28be6c64de",
   "metadata": {},
   "outputs": [
    {
     "data": {
      "text/plain": [
       "[1, 7, 3, 2, 4, 5, 6]"
      ]
     },
     "execution_count": 10,
     "metadata": {},
     "output_type": "execute_result"
    }
   ],
   "source": [
    "result"
   ]
  },
  {
   "cell_type": "code",
   "execution_count": 13,
   "id": "268265e5-9d56-4b9d-8e84-97c3d1b071b4",
   "metadata": {},
   "outputs": [
    {
     "data": {
      "text/plain": [
       "[2, 1, 6, 7, 5, 3, 4]"
      ]
     },
     "execution_count": 13,
     "metadata": {},
     "output_type": "execute_result"
    }
   ],
   "source": [
    "result"
   ]
  },
  {
   "cell_type": "code",
   "execution_count": 14,
   "id": "3e4ac3ec-ef2a-4271-9ed0-f9878e92c554",
   "metadata": {},
   "outputs": [],
   "source": [
    "mylist = [' ','O',' ']"
   ]
  },
  {
   "cell_type": "code",
   "execution_count": 17,
   "id": "b1d39636-2632-4a98-a3b2-a6b4b57b2c1d",
   "metadata": {},
   "outputs": [
    {
     "data": {
      "text/plain": [
       "[' ', 'O', ' ']"
      ]
     },
     "execution_count": 17,
     "metadata": {},
     "output_type": "execute_result"
    }
   ],
   "source": [
    "shuffle_list(mylist)"
   ]
  },
  {
   "cell_type": "code",
   "execution_count": 21,
   "id": "31faf96d-4008-41e3-8453-8bb8f497f99c",
   "metadata": {},
   "outputs": [],
   "source": [
    "def player_guess():\n",
    "    guess=''\n",
    "    while guess not in ['0','2','1']:\n",
    "        guess = input(\"Pick a number:0,1, or 2\")\n",
    "    return int(guess)"
   ]
  },
  {
   "cell_type": "code",
   "execution_count": 22,
   "id": "084f9ae0-f457-48a7-a037-7162ad4bcb84",
   "metadata": {},
   "outputs": [
    {
     "name": "stdin",
     "output_type": "stream",
     "text": [
      "Pick a number:0,1, or 2 1\n"
     ]
    },
    {
     "data": {
      "text/plain": [
       "1"
      ]
     },
     "execution_count": 22,
     "metadata": {},
     "output_type": "execute_result"
    }
   ],
   "source": [
    "player_guess()"
   ]
  },
  {
   "cell_type": "code",
   "execution_count": 24,
   "id": "5f4c0b88-7d5b-444f-a099-23b7109f4356",
   "metadata": {},
   "outputs": [],
   "source": [
    "def check_guess(mylist,guess):\n",
    "    if mylist[guess] == 'O':\n",
    "        print(\"Correct\")\n",
    "    else:\n",
    "        print(\"Wrong guess!\")\n",
    "        print(mylist)"
   ]
  },
  {
   "cell_type": "code",
   "execution_count": 32,
   "id": "2b0a312e-59e1-4d0a-9d63-fc9aac8dbce1",
   "metadata": {},
   "outputs": [
    {
     "name": "stdin",
     "output_type": "stream",
     "text": [
      "Pick a number:0,1, or 2 0\n"
     ]
    },
    {
     "name": "stdout",
     "output_type": "stream",
     "text": [
      "Correct\n"
     ]
    }
   ],
   "source": [
    "# INITIAL LIST\n",
    "mylist = ['','O','']\n",
    "# SHUFFLE LIST\n",
    "mixedup_list = shuffle_list(mylist)\n",
    "# USER GUESS\n",
    "guess=player_guess()\n",
    "# CHECK GUESS\n",
    "check_guess(mixedup_list,guess)"
   ]
  },
  {
   "cell_type": "code",
   "execution_count": 33,
   "id": "f38cf52d-be4c-49d3-907d-b66bdcd84c1f",
   "metadata": {},
   "outputs": [],
   "source": [
    "def square(num):\n",
    "    return num**2"
   ]
  },
  {
   "cell_type": "code",
   "execution_count": 34,
   "id": "5f7395e1-e85a-4c87-80d1-45276fcd9f05",
   "metadata": {},
   "outputs": [],
   "source": [
    "my_nums = [1,2,3,4,5]"
   ]
  },
  {
   "cell_type": "code",
   "execution_count": 35,
   "id": "f8c1aa97-a53a-409f-b8b5-271eecae633f",
   "metadata": {},
   "outputs": [
    {
     "name": "stdout",
     "output_type": "stream",
     "text": [
      "1\n",
      "4\n",
      "9\n",
      "16\n",
      "25\n"
     ]
    }
   ],
   "source": [
    "for item in map(square, my_nums):\n",
    "    print(item)"
   ]
  },
  {
   "cell_type": "code",
   "execution_count": 37,
   "id": "23b2afa3-af87-4ea8-85a7-7758bb29c482",
   "metadata": {},
   "outputs": [
    {
     "data": {
      "text/plain": [
       "[1, 4, 9, 16, 25]"
      ]
     },
     "execution_count": 37,
     "metadata": {},
     "output_type": "execute_result"
    }
   ],
   "source": [
    "list(map(square,my_nums))"
   ]
  },
  {
   "cell_type": "code",
   "execution_count": 38,
   "id": "2c2d7a59-07f1-4797-9c35-623c656ffa28",
   "metadata": {},
   "outputs": [],
   "source": [
    "def splicer(mystring):\n",
    "    if len(mystring)%2==0:\n",
    "        return 'EVEN'\n",
    "    else:\n",
    "        return mystring[0]"
   ]
  },
  {
   "cell_type": "code",
   "execution_count": 39,
   "id": "64d67aed-00d6-4872-a858-65f95dcb9b0c",
   "metadata": {},
   "outputs": [],
   "source": [
    "names = ['Andy','Eve','Sally']"
   ]
  },
  {
   "cell_type": "code",
   "execution_count": 40,
   "id": "e6aa8117-d4c1-47ab-80cf-9dfadf6278e8",
   "metadata": {},
   "outputs": [
    {
     "data": {
      "text/plain": [
       "['EVEN', 'E', 'S']"
      ]
     },
     "execution_count": 40,
     "metadata": {},
     "output_type": "execute_result"
    }
   ],
   "source": [
    "list(map(splicer,names))"
   ]
  },
  {
   "cell_type": "code",
   "execution_count": 41,
   "id": "244973d2-3fe6-4d48-8fbf-95e39c2d9d24",
   "metadata": {},
   "outputs": [],
   "source": [
    "def check_even(num):\n",
    "    return num%2==0"
   ]
  },
  {
   "cell_type": "code",
   "execution_count": 42,
   "id": "62930273-13c0-4e92-b330-3923dd05446c",
   "metadata": {},
   "outputs": [],
   "source": [
    "mynums = [1,2,3,4,5,6]"
   ]
  },
  {
   "cell_type": "code",
   "execution_count": 44,
   "id": "b71a27d4-0308-411f-8cab-cf1dd17fc7a4",
   "metadata": {},
   "outputs": [
    {
     "data": {
      "text/plain": [
       "[2, 4, 6]"
      ]
     },
     "execution_count": 44,
     "metadata": {},
     "output_type": "execute_result"
    }
   ],
   "source": [
    "list(filter(check_even,mynums))"
   ]
  },
  {
   "cell_type": "code",
   "execution_count": 45,
   "id": "7dd877c8-0d87-4c29-b3a2-6249addd3157",
   "metadata": {},
   "outputs": [
    {
     "name": "stdout",
     "output_type": "stream",
     "text": [
      "2\n",
      "4\n",
      "6\n"
     ]
    }
   ],
   "source": [
    "for n in filter(check_even,mynums):\n",
    "    print(n)"
   ]
  },
  {
   "cell_type": "code",
   "execution_count": 55,
   "id": "9593f729-a3de-4d87-8573-d5d652e41f3d",
   "metadata": {},
   "outputs": [
    {
     "data": {
      "text/plain": [
       "[2, 4, 6, 8, 10, 12]"
      ]
     },
     "execution_count": 55,
     "metadata": {},
     "output_type": "execute_result"
    }
   ],
   "source": [
    "list(map(lambda num:num *2, mynums))"
   ]
  },
  {
   "cell_type": "code",
   "execution_count": 57,
   "id": "71e6d340-8d89-4991-ba8d-e7405b5f4061",
   "metadata": {},
   "outputs": [
    {
     "data": {
      "text/plain": [
       "[2, 4, 6]"
      ]
     },
     "execution_count": 57,
     "metadata": {},
     "output_type": "execute_result"
    }
   ],
   "source": [
    "list(filter(lambda num: num%2==0 , mynums))"
   ]
  },
  {
   "cell_type": "code",
   "execution_count": 59,
   "id": "21b8221d-bfe6-4163-bfeb-51bf6055ed97",
   "metadata": {},
   "outputs": [
    {
     "data": {
      "text/plain": [
       "['A', 'E', 'S']"
      ]
     },
     "execution_count": 59,
     "metadata": {},
     "output_type": "execute_result"
    }
   ],
   "source": [
    "list(map(lambda name:name[0], names))"
   ]
  },
  {
   "cell_type": "code",
   "execution_count": 60,
   "id": "31dc4880-56c5-491b-8c0e-be0247dd86c7",
   "metadata": {},
   "outputs": [],
   "source": [
    "x = 25\n",
    "def printer():\n",
    "    x = 50\n",
    "    return x"
   ]
  },
  {
   "cell_type": "code",
   "execution_count": 61,
   "id": "1caff016-6803-4744-8375-6bdf2f0ff329",
   "metadata": {},
   "outputs": [
    {
     "name": "stdout",
     "output_type": "stream",
     "text": [
      "25\n"
     ]
    }
   ],
   "source": [
    "print(x)"
   ]
  },
  {
   "cell_type": "code",
   "execution_count": 62,
   "id": "2716ed0f-c700-459d-adc8-210f8b5e1126",
   "metadata": {},
   "outputs": [
    {
     "name": "stdout",
     "output_type": "stream",
     "text": [
      "50\n"
     ]
    }
   ],
   "source": [
    "print(printer())"
   ]
  },
  {
   "cell_type": "code",
   "execution_count": 67,
   "id": "08d5cc6d-e8d4-4a3c-bc2d-cabecc3c5744",
   "metadata": {},
   "outputs": [],
   "source": [
    "name = 'THIS IS A GLOBAL STRING'\n",
    "\n",
    "def greet():\n",
    "    # name = 'Sammy'\n",
    "    def hello():\n",
    "        print('Hello '+name)\n",
    "    hello()"
   ]
  },
  {
   "cell_type": "code",
   "execution_count": 68,
   "id": "077c1cf5-c7fa-4afa-884f-6f875ffa19a5",
   "metadata": {},
   "outputs": [
    {
     "name": "stdout",
     "output_type": "stream",
     "text": [
      "Hello THIS IS A GLOBAL STRING\n"
     ]
    }
   ],
   "source": [
    "greet()"
   ]
  },
  {
   "cell_type": "code",
   "execution_count": 69,
   "id": "ad37d408-205e-4395-84b6-8eb6add875c2",
   "metadata": {},
   "outputs": [],
   "source": [
    "#LEGB"
   ]
  },
  {
   "cell_type": "code",
   "execution_count": 70,
   "id": "463dbab1-1769-4341-bea8-df309130dd62",
   "metadata": {},
   "outputs": [
    {
     "name": "stdout",
     "output_type": "stream",
     "text": [
      "Help on built-in function len in module builtins:\n",
      "\n",
      "len(obj, /)\n",
      "    Return the number of items in a container.\n",
      "\n"
     ]
    }
   ],
   "source": [
    "help(len)"
   ]
  },
  {
   "cell_type": "code",
   "execution_count": 84,
   "id": "9bc0c22d-65b3-4af6-9039-3fd8f1d8ee35",
   "metadata": {},
   "outputs": [],
   "source": [
    "x = 50\n",
    "def func():\n",
    "    global x\n",
    "    print(f'X is {x}')\n",
    "    x = 'New value'\n",
    "    print(f'I just locally changed X to {x}')"
   ]
  },
  {
   "cell_type": "code",
   "execution_count": 88,
   "id": "5c934b26-436e-42df-87f5-5e7894a435b6",
   "metadata": {},
   "outputs": [
    {
     "name": "stdout",
     "output_type": "stream",
     "text": [
      "New value\n"
     ]
    }
   ],
   "source": [
    "print(x)"
   ]
  },
  {
   "cell_type": "code",
   "execution_count": 87,
   "id": "9e74d274-21d9-4ba3-a6fa-877a4735bdf6",
   "metadata": {},
   "outputs": [
    {
     "name": "stdout",
     "output_type": "stream",
     "text": [
      "X is 50\n",
      "I just locally changed X to New value\n"
     ]
    }
   ],
   "source": [
    "func()"
   ]
  },
  {
   "cell_type": "code",
   "execution_count": null,
   "id": "e888d07f-0d73-48cf-b537-57d36bc22c77",
   "metadata": {},
   "outputs": [],
   "source": []
  }
 ],
 "metadata": {
  "kernelspec": {
   "display_name": "Python 3 (ipykernel)",
   "language": "python",
   "name": "python3"
  },
  "language_info": {
   "codemirror_mode": {
    "name": "ipython",
    "version": 3
   },
   "file_extension": ".py",
   "mimetype": "text/x-python",
   "name": "python",
   "nbconvert_exporter": "python",
   "pygments_lexer": "ipython3",
   "version": "3.11.7"
  }
 },
 "nbformat": 4,
 "nbformat_minor": 5
}
