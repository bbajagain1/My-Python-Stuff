{
 "cells": [
  {
   "cell_type": "code",
   "execution_count": 1,
   "id": "a9f6c83c-948f-4d38-8d42-1be403e1400f",
   "metadata": {},
   "outputs": [],
   "source": [
    "# Built in smtplib library in Python "
   ]
  },
  {
   "cell_type": "code",
   "execution_count": 2,
   "id": "ee299c3b-40d5-4ffd-ae75-df8529fb08fe",
   "metadata": {},
   "outputs": [],
   "source": [
    "# Simple Mail Transfer Protocol "
   ]
  },
  {
   "cell_type": "code",
   "execution_count": 3,
   "id": "2985fba4-81e6-460f-a1d5-b7170a1cc08b",
   "metadata": {},
   "outputs": [],
   "source": [
    "import smtplib"
   ]
  },
  {
   "cell_type": "code",
   "execution_count": 4,
   "id": "2b631ed5-ce90-403c-8ce0-d9ba5b03a153",
   "metadata": {},
   "outputs": [],
   "source": [
    "# gmail as our server for us"
   ]
  },
  {
   "cell_type": "code",
   "execution_count": 5,
   "id": "a917ef4b-15fe-42c9-80f7-d7c6139230f6",
   "metadata": {},
   "outputs": [],
   "source": [
    "smtp_object = smtplib.SMTP('smtp.gmail.com',587)"
   ]
  },
  {
   "cell_type": "code",
   "execution_count": 6,
   "id": "164f281e-fc00-4151-a783-a0ee64fc0982",
   "metadata": {},
   "outputs": [
    {
     "data": {
      "text/plain": [
       "(250,\n",
       " b'smtp.gmail.com at your service, [24.32.95.182]\\nSIZE 35882577\\n8BITMIME\\nSTARTTLS\\nENHANCEDSTATUSCODES\\nPIPELINING\\nCHUNKING\\nSMTPUTF8')"
      ]
     },
     "execution_count": 6,
     "metadata": {},
     "output_type": "execute_result"
    }
   ],
   "source": [
    "smtp_object.ehlo()"
   ]
  },
  {
   "cell_type": "code",
   "execution_count": 8,
   "id": "0553e6ff-bb2e-4afb-a609-efc74f3f23cc",
   "metadata": {},
   "outputs": [],
   "source": [
    "# encrypted so that no one other than the final receiver can read the email\n",
    "# TLS encryption"
   ]
  },
  {
   "cell_type": "code",
   "execution_count": 9,
   "id": "60a1b2d0-c8c3-45f0-b3a9-c166a688f8dc",
   "metadata": {},
   "outputs": [
    {
     "data": {
      "text/plain": [
       "(220, b'2.0.0 Ready to start TLS')"
      ]
     },
     "execution_count": 9,
     "metadata": {},
     "output_type": "execute_result"
    }
   ],
   "source": [
    "smtp_object.starttls()"
   ]
  },
  {
   "cell_type": "code",
   "execution_count": 10,
   "id": "f70e07af-1210-44e6-98c4-2fcf562f6ca6",
   "metadata": {},
   "outputs": [],
   "source": [
    "# Security so that the password is not visible\n",
    "import getpass"
   ]
  },
  {
   "cell_type": "code",
   "execution_count": 11,
   "id": "ad47d78c-31e6-4b08-823f-83100181d24e",
   "metadata": {},
   "outputs": [
    {
     "name": "stdin",
     "output_type": "stream",
     "text": [
      "Password please:  ········\n"
     ]
    }
   ],
   "source": [
    "password = getpass.getpass('Password please: ')"
   ]
  },
  {
   "cell_type": "code",
   "execution_count": 15,
   "id": "08120599-7cf4-404d-b585-52accc5142f8",
   "metadata": {},
   "outputs": [
    {
     "name": "stdin",
     "output_type": "stream",
     "text": [
      "Email: ········\n",
      "Password: ········\n"
     ]
    },
    {
     "data": {
      "text/plain": [
       "(235, b'2.7.0 Accepted')"
      ]
     },
     "execution_count": 15,
     "metadata": {},
     "output_type": "execute_result"
    }
   ],
   "source": [
    "email = getpass.getpass(\"Email:\")\n",
    "# This is app password\n",
    "password = getpass.getpass(\"Password:\")\n",
    "smtp_object.login(email,password)"
   ]
  },
  {
   "cell_type": "code",
   "execution_count": 16,
   "id": "c4cbb343-a031-4afa-9815-e03ea8df1286",
   "metadata": {},
   "outputs": [
    {
     "name": "stdin",
     "output_type": "stream",
     "text": [
      "enter the subject line:  New test python\n",
      "enter the body message:  hello this is a test\n"
     ]
    },
    {
     "data": {
      "text/plain": [
       "{}"
      ]
     },
     "execution_count": 16,
     "metadata": {},
     "output_type": "execute_result"
    }
   ],
   "source": [
    "from_address = email\n",
    "to_address = email\n",
    "subject = input(\"enter the subject line: \")\n",
    "message = input(\"enter the body message: \")\n",
    "msg = \"Subject: \" + subject + '\\n' + message\n",
    "\n",
    "smtp_object.sendmail(from_address,to_address,msg)"
   ]
  },
  {
   "cell_type": "code",
   "execution_count": 17,
   "id": "91d3a2b5-ab89-4a4e-a3d0-8c892b8ccd57",
   "metadata": {},
   "outputs": [
    {
     "data": {
      "text/plain": [
       "(221,\n",
       " b'2.0.0 closing connection 586e51a60fabf-2702f0af5f3sm1780442fac.55 - gsmtp')"
      ]
     },
     "execution_count": 17,
     "metadata": {},
     "output_type": "execute_result"
    }
   ],
   "source": [
    "smtp_object.quit()"
   ]
  }
 ],
 "metadata": {
  "kernelspec": {
   "display_name": "Python 3 (ipykernel)",
   "language": "python",
   "name": "python3"
  },
  "language_info": {
   "codemirror_mode": {
    "name": "ipython",
    "version": 3
   },
   "file_extension": ".py",
   "mimetype": "text/x-python",
   "name": "python",
   "nbconvert_exporter": "python",
   "pygments_lexer": "ipython3",
   "version": "3.11.7"
  }
 },
 "nbformat": 4,
 "nbformat_minor": 5
}
