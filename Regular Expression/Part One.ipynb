{
 "cells": [
  {
   "cell_type": "code",
   "execution_count": 1,
   "id": "749948f7-a930-4b65-b799-d3ca2e25e95b",
   "metadata": {},
   "outputs": [],
   "source": [
    "# Regular expression"
   ]
  },
  {
   "cell_type": "code",
   "execution_count": null,
   "id": "f159ee5a-7462-4d93-993c-85d3b3d6cc4c",
   "metadata": {},
   "outputs": [],
   "source": [
    "r\"(\\d\\d\\d)-\\d\\d\\d-\\d\\d\\d\\d\""
   ]
  }
 ],
 "metadata": {
  "kernelspec": {
   "display_name": "Python 3 (ipykernel)",
   "language": "python",
   "name": "python3"
  },
  "language_info": {
   "codemirror_mode": {
    "name": "ipython",
    "version": 3
   },
   "file_extension": ".py",
   "mimetype": "text/x-python",
   "name": "python",
   "nbconvert_exporter": "python",
   "pygments_lexer": "ipython3",
   "version": "3.11.7"
  }
 },
 "nbformat": 4,
 "nbformat_minor": 5
}
