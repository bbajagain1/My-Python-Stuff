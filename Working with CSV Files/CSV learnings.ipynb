{
 "cells": [
  {
   "cell_type": "code",
   "execution_count": 1,
   "id": "57d0b808-62ae-4382-823a-061fb57c8363",
   "metadata": {},
   "outputs": [],
   "source": [
    "# Comma Separated Variables"
   ]
  },
  {
   "cell_type": "code",
   "execution_count": 2,
   "id": "b13f257b-d14b-4ab2-8b7e-a43dbf7e261b",
   "metadata": {},
   "outputs": [],
   "source": [
    "# Name,Hours,Rate\n",
    "# David, 20, 15\n",
    "# Claire, 40, 20"
   ]
  },
  {
   "cell_type": "code",
   "execution_count": 5,
   "id": "2d530534-33d0-4fcd-8f84-2c0cda9b99dc",
   "metadata": {},
   "outputs": [],
   "source": [
    "# Pandas - Full data analysis library\n",
    "# Runs visualizations and analysis\n",
    "\n",
    "# Openpyxl - Designed specifically for Excel files\n",
    "# Retains a lot of Excel specific functionality\n",
    "\n",
    "# Google Sheets Python API\n",
    "# Python interface for working with Google Sheets"
   ]
  },
  {
   "cell_type": "code",
   "execution_count": 6,
   "id": "1b7c2e46-991b-443a-bd1f-f1e1e5a7d588",
   "metadata": {},
   "outputs": [],
   "source": [
    "import csv"
   ]
  },
  {
   "cell_type": "code",
   "execution_count": 9,
   "id": "fce20ab0-7fcc-436c-9947-22f3ab795a98",
   "metadata": {},
   "outputs": [],
   "source": [
    "# open the file\n",
    "# @ is present in that particular file hence have this decoding error ; hence adding encoding format specific\n",
    "data = open('example.csv',encoding='utf-8')\n",
    "\n",
    "# csv.reader\n",
    "csv_data = csv.reader(data)\n",
    "\n",
    "# reformat it into a python object list of lists\n",
    "data_lines = list(csv_data)\n"
   ]
  },
  {
   "cell_type": "code",
   "execution_count": 11,
   "id": "fefda206-4ce6-455f-8322-af7fe73c6e6f",
   "metadata": {},
   "outputs": [
    {
     "data": {
      "text/plain": [
       "['id', 'first_name', 'last_name', 'email', 'gender', 'ip_address', 'city']"
      ]
     },
     "execution_count": 11,
     "metadata": {},
     "output_type": "execute_result"
    }
   ],
   "source": [
    "data_lines[0]"
   ]
  },
  {
   "cell_type": "code",
   "execution_count": 12,
   "id": "963e74de-bb24-47f1-ab86-4fd64320324a",
   "metadata": {},
   "outputs": [
    {
     "data": {
      "text/plain": [
       "1001"
      ]
     },
     "execution_count": 12,
     "metadata": {},
     "output_type": "execute_result"
    }
   ],
   "source": [
    "len(data_lines)"
   ]
  },
  {
   "cell_type": "code",
   "execution_count": 13,
   "id": "d8e28121-9bac-493f-a28d-e726a5d7ed6b",
   "metadata": {},
   "outputs": [
    {
     "name": "stdout",
     "output_type": "stream",
     "text": [
      "['id', 'first_name', 'last_name', 'email', 'gender', 'ip_address', 'city']\n",
      "['1', 'Joseph', 'Zaniolini', 'jzaniolini0@simplemachines.org', 'Male', '163.168.68.132', 'Pedro Leopoldo']\n",
      "['2', 'Freida', 'Drillingcourt', 'fdrillingcourt1@umich.edu', 'Female', '97.212.102.79', 'Buri']\n",
      "['3', 'Nanni', 'Herity', 'nherity2@statcounter.com', 'Female', '145.151.178.98', 'Claver']\n",
      "['4', 'Orazio', 'Frayling', 'ofrayling3@economist.com', 'Male', '25.199.143.143', 'Kungur']\n"
     ]
    }
   ],
   "source": [
    "for line in data_lines[:5]:\n",
    "    print(line)"
   ]
  },
  {
   "cell_type": "code",
   "execution_count": 15,
   "id": "0687fd3a-8791-41d0-9b6c-cfe2fce8bc10",
   "metadata": {},
   "outputs": [
    {
     "data": {
      "text/plain": [
       "'hgasquoine9@google.ru'"
      ]
     },
     "execution_count": 15,
     "metadata": {},
     "output_type": "execute_result"
    }
   ],
   "source": [
    "data_lines[10][3]"
   ]
  },
  {
   "cell_type": "code",
   "execution_count": 16,
   "id": "1afad7ee-e71a-43ee-ba88-ffaa8df9ad80",
   "metadata": {},
   "outputs": [],
   "source": [
    "all_emails = []"
   ]
  },
  {
   "cell_type": "raw",
   "id": "a5ce9de6-d562-43e6-83cc-02a046fd83e5",
   "metadata": {},
   "source": []
  },
  {
   "cell_type": "code",
   "execution_count": 18,
   "id": "5b5a58b4-980c-4ba6-9096-4987de14d405",
   "metadata": {},
   "outputs": [],
   "source": [
    "for line in data_lines[1:15]:\n",
    "    all_emails.append(line[3])"
   ]
  },
  {
   "cell_type": "code",
   "execution_count": 20,
   "id": "b632384e-7d5b-44d7-923d-b42ef7880942",
   "metadata": {},
   "outputs": [],
   "source": [
    "# all_emails"
   ]
  },
  {
   "cell_type": "code",
   "execution_count": 21,
   "id": "b8745fc5-bb4a-41b0-a9bc-1d21b52b1917",
   "metadata": {},
   "outputs": [],
   "source": [
    "full_names = []\n",
    "for line in data_lines[1:15]:\n",
    "    full_names.append(line[1]+ ' ' + line[2])"
   ]
  },
  {
   "cell_type": "code",
   "execution_count": 23,
   "id": "2b39be88-919d-4c9e-8cb7-68173e074161",
   "metadata": {},
   "outputs": [],
   "source": [
    "# full_names"
   ]
  },
  {
   "cell_type": "code",
   "execution_count": 24,
   "id": "9b33e01c-b16f-40ba-87fa-d5925764d4cf",
   "metadata": {},
   "outputs": [],
   "source": [
    "file_to_output = open('to_save_file.csv',mode = 'w', newline = '')"
   ]
  },
  {
   "cell_type": "code",
   "execution_count": 27,
   "id": "908c53ed-a501-4374-b563-e0a0f4d45336",
   "metadata": {},
   "outputs": [],
   "source": [
    "csv_writer = csv.writer(file_to_output,delimiter = ',')"
   ]
  },
  {
   "cell_type": "code",
   "execution_count": 29,
   "id": "cce008c0-6efb-43ac-b7a6-2c0e0cadd02f",
   "metadata": {},
   "outputs": [
    {
     "data": {
      "text/plain": [
       "7"
      ]
     },
     "execution_count": 29,
     "metadata": {},
     "output_type": "execute_result"
    }
   ],
   "source": [
    "csv_writer.writerow(['a','b','c'])"
   ]
  },
  {
   "cell_type": "code",
   "execution_count": 31,
   "id": "434b132b-319e-4e2e-8b27-b6d527b53ed6",
   "metadata": {},
   "outputs": [
    {
     "data": {
      "text/plain": [
       "73"
      ]
     },
     "execution_count": 31,
     "metadata": {},
     "output_type": "execute_result"
    }
   ],
   "source": [
    "csv_writer.writerow([['1','2','3'],['1','2','3'],['1','2','3'],['1','2','3']])"
   ]
  },
  {
   "cell_type": "code",
   "execution_count": 32,
   "id": "b415ef71-22bc-41ad-8a93-655eabc71c70",
   "metadata": {},
   "outputs": [],
   "source": [
    "f= open('to_save_file.csv', mode = 'a' , newline = '')"
   ]
  },
  {
   "cell_type": "code",
   "execution_count": 33,
   "id": "ad5db13d-68e7-4740-8f06-aeb4fe808a7f",
   "metadata": {},
   "outputs": [],
   "source": [
    "csv_writer = csv.writer(f)"
   ]
  },
  {
   "cell_type": "code",
   "execution_count": 34,
   "id": "144dc669-530f-40b5-91a2-6980030ec5eb",
   "metadata": {},
   "outputs": [
    {
     "data": {
      "text/plain": [
       "7"
      ]
     },
     "execution_count": 34,
     "metadata": {},
     "output_type": "execute_result"
    }
   ],
   "source": [
    "csv_writer.writerow(['1','2','3'])"
   ]
  },
  {
   "cell_type": "code",
   "execution_count": 35,
   "id": "203f1317-bbc9-4c9f-8665-db5cbec8161f",
   "metadata": {},
   "outputs": [],
   "source": [
    "f.close()"
   ]
  },
  {
   "cell_type": "code",
   "execution_count": null,
   "id": "e5ec8190-e6c2-4699-bdda-ad96dec2cce9",
   "metadata": {},
   "outputs": [],
   "source": []
  }
 ],
 "metadata": {
  "kernelspec": {
   "display_name": "Python 3 (ipykernel)",
   "language": "python",
   "name": "python3"
  },
  "language_info": {
   "codemirror_mode": {
    "name": "ipython",
    "version": 3
   },
   "file_extension": ".py",
   "mimetype": "text/x-python",
   "name": "python",
   "nbconvert_exporter": "python",
   "pygments_lexer": "ipython3",
   "version": "3.11.7"
  }
 },
 "nbformat": 4,
 "nbformat_minor": 5
}
