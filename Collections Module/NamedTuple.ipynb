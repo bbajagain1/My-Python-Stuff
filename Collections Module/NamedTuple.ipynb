{
 "cells": [
  {
   "cell_type": "code",
   "execution_count": 3,
   "id": "40795ea9-ae9f-427b-bbb9-9aa8c15a4b0d",
   "metadata": {},
   "outputs": [],
   "source": [
    "# NamedTuple\n",
    "# provides a way to create simple, lightweight data structures similar to a class, but without the overhead of defining a full class."
   ]
  },
  {
   "cell_type": "code",
   "execution_count": 10,
   "id": "85a3012c-ae3c-4bd5-bf28-48f478c8a2dc",
   "metadata": {},
   "outputs": [],
   "source": [
    "#     namedtuple(typename, field_names)\n",
    "\n",
    "#        typename – The name of the namedtuple.\n",
    "#        field_names – The list of attributes stored in the namedtuple."
   ]
  },
  {
   "cell_type": "code",
   "execution_count": 1,
   "id": "03a0b905-e729-4931-baf3-978a96445666",
   "metadata": {},
   "outputs": [],
   "source": [
    "mytuple = (10,20,30)"
   ]
  },
  {
   "cell_type": "code",
   "execution_count": 2,
   "id": "f4f83585-4c9f-4c5c-ab6c-68b6598d92e1",
   "metadata": {},
   "outputs": [
    {
     "data": {
      "text/plain": [
       "10"
      ]
     },
     "execution_count": 2,
     "metadata": {},
     "output_type": "execute_result"
    }
   ],
   "source": [
    "mytuple[0]"
   ]
  },
  {
   "cell_type": "code",
   "execution_count": 4,
   "id": "34558d4d-cf1a-4939-807b-45372bee637f",
   "metadata": {},
   "outputs": [],
   "source": [
    "from collections import namedtuple"
   ]
  },
  {
   "cell_type": "code",
   "execution_count": 5,
   "id": "7b37bbd7-6228-479c-90a6-1adbc9b66675",
   "metadata": {},
   "outputs": [],
   "source": [
    "Dog = namedtuple('Dog',['age','breed','name'])"
   ]
  },
  {
   "cell_type": "code",
   "execution_count": 6,
   "id": "f0825537-86ab-431b-9934-dd201a9d96ef",
   "metadata": {},
   "outputs": [],
   "source": [
    "sammy = Dog(age=5,breed = 'Husky', name='Sam')"
   ]
  },
  {
   "cell_type": "code",
   "execution_count": 7,
   "id": "aff53951-381f-4a1d-b763-5b0e5ccd1efa",
   "metadata": {},
   "outputs": [
    {
     "data": {
      "text/plain": [
       "__main__.Dog"
      ]
     },
     "execution_count": 7,
     "metadata": {},
     "output_type": "execute_result"
    }
   ],
   "source": [
    "type(sammy)"
   ]
  },
  {
   "cell_type": "code",
   "execution_count": 8,
   "id": "86638dd4-7034-40c7-a911-3edf81b9b06e",
   "metadata": {},
   "outputs": [
    {
     "data": {
      "text/plain": [
       "Dog(age=5, breed='Husky', name='Sam')"
      ]
     },
     "execution_count": 8,
     "metadata": {},
     "output_type": "execute_result"
    }
   ],
   "source": [
    "sammy"
   ]
  },
  {
   "cell_type": "code",
   "execution_count": 9,
   "id": "8cd063d2-1392-4119-be9e-87e5b25fab43",
   "metadata": {},
   "outputs": [
    {
     "data": {
      "text/plain": [
       "5"
      ]
     },
     "execution_count": 9,
     "metadata": {},
     "output_type": "execute_result"
    }
   ],
   "source": [
    "sammy.age"
   ]
  }
 ],
 "metadata": {
  "kernelspec": {
   "display_name": "Python 3 (ipykernel)",
   "language": "python",
   "name": "python3"
  },
  "language_info": {
   "codemirror_mode": {
    "name": "ipython",
    "version": 3
   },
   "file_extension": ".py",
   "mimetype": "text/x-python",
   "name": "python",
   "nbconvert_exporter": "python",
   "pygments_lexer": "ipython3",
   "version": "3.11.7"
  }
 },
 "nbformat": 4,
 "nbformat_minor": 5
}
