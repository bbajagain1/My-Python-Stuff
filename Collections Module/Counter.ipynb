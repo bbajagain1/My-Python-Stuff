{
 "cells": [
  {
   "cell_type": "code",
   "execution_count": 1,
   "id": "52f086c9-d4d6-47c9-be8d-9b2191608e7c",
   "metadata": {},
   "outputs": [],
   "source": [
    "# Collections Module"
   ]
  },
  {
   "cell_type": "code",
   "execution_count": 2,
   "id": "d057a3cf-78ff-49ae-a021-442e49980903",
   "metadata": {},
   "outputs": [],
   "source": [
    "from collections import Counter"
   ]
  },
  {
   "cell_type": "code",
   "execution_count": 3,
   "id": "f04b8ba7-0b26-464c-a9ea-204ab0d249e5",
   "metadata": {},
   "outputs": [],
   "source": [
    "mylist = [1,1,1,1,2,2,2,3,3,4,5,6,6,6,6,8,9,9,7]"
   ]
  },
  {
   "cell_type": "code",
   "execution_count": 7,
   "id": "8f13dc80-8044-4165-afea-677d000c3c34",
   "metadata": {},
   "outputs": [
    {
     "data": {
      "text/plain": [
       "Counter({1: 4, 6: 4, 2: 3, 3: 2, 9: 2, 4: 1, 5: 1, 8: 1, 7: 1})"
      ]
     },
     "execution_count": 7,
     "metadata": {},
     "output_type": "execute_result"
    }
   ],
   "source": [
    "# Counter is a sub-class that is used to count hashable objects\n",
    "# It implicitly creates a hash table of an iterable when invoked.\n",
    "Counter(mylist)"
   ]
  },
  {
   "cell_type": "code",
   "execution_count": 8,
   "id": "ca8d5a41-4e5e-4d92-bcdb-6c15fc79dbdc",
   "metadata": {},
   "outputs": [
    {
     "data": {
      "text/plain": [
       "Counter({'a': 6,\n",
       "         'b': 5,\n",
       "         's': 4,\n",
       "         'd': 3,\n",
       "         'f': 3,\n",
       "         'o': 2,\n",
       "         'k': 2,\n",
       "         'e': 1,\n",
       "         'w': 1,\n",
       "         'r': 1,\n",
       "         'p': 1})"
      ]
     },
     "execution_count": 8,
     "metadata": {},
     "output_type": "execute_result"
    }
   ],
   "source": [
    "Counter('aaaabbbbbsadfasoewropsdfksdfk')"
   ]
  },
  {
   "cell_type": "code",
   "execution_count": 9,
   "id": "04898721-3cbf-4863-bb90-f0023fe62921",
   "metadata": {},
   "outputs": [],
   "source": [
    "sentence = 'How many times does each word show up how in time word?'"
   ]
  },
  {
   "cell_type": "code",
   "execution_count": 10,
   "id": "ef7fd399-3ea5-4e21-b1ee-b3c0e02c533e",
   "metadata": {},
   "outputs": [
    {
     "data": {
      "text/plain": [
       "Counter({'How': 1,\n",
       "         'many': 1,\n",
       "         'times': 1,\n",
       "         'does': 1,\n",
       "         'each': 1,\n",
       "         'word': 1,\n",
       "         'show': 1,\n",
       "         'up': 1,\n",
       "         'how': 1,\n",
       "         'in': 1,\n",
       "         'time': 1,\n",
       "         'word?': 1})"
      ]
     },
     "execution_count": 10,
     "metadata": {},
     "output_type": "execute_result"
    }
   ],
   "source": [
    "Counter(sentence.split())"
   ]
  },
  {
   "cell_type": "code",
   "execution_count": 11,
   "id": "1aa7db17-6c79-469e-a80a-45a110b729b9",
   "metadata": {},
   "outputs": [],
   "source": [
    "letters = 'aaaaaaaaaabbbbbbbbbbbbbccccccccccddddddddddd'"
   ]
  },
  {
   "cell_type": "code",
   "execution_count": 12,
   "id": "4f4bc208-2ca1-42da-b735-02bb657f298d",
   "metadata": {},
   "outputs": [],
   "source": [
    "c = Counter(letters)"
   ]
  },
  {
   "cell_type": "code",
   "execution_count": 13,
   "id": "f047f6ed-f48f-45d8-b4d1-f25b93a68ace",
   "metadata": {},
   "outputs": [
    {
     "data": {
      "text/plain": [
       "Counter({'b': 13, 'd': 11, 'a': 10, 'c': 10})"
      ]
     },
     "execution_count": 13,
     "metadata": {},
     "output_type": "execute_result"
    }
   ],
   "source": [
    "c"
   ]
  },
  {
   "cell_type": "code",
   "execution_count": 16,
   "id": "9832f413-db90-41f7-81e7-b6abf1677022",
   "metadata": {},
   "outputs": [
    {
     "data": {
      "text/plain": [
       "[('b', 13)]"
      ]
     },
     "execution_count": 16,
     "metadata": {},
     "output_type": "execute_result"
    }
   ],
   "source": [
    "# Most common\n",
    "c.most_common(1)"
   ]
  },
  {
   "cell_type": "code",
   "execution_count": 19,
   "id": "e0ad004f-7c5d-4a15-9a73-3b02cdab8c0d",
   "metadata": {},
   "outputs": [],
   "source": [
    "# https://dev.to/kathanvakharia/python-collections-module-counter-2gn\n",
    "# Common pattern"
   ]
  },
  {
   "cell_type": "code",
   "execution_count": 20,
   "id": "0b4fb3a4-825e-4587-bca4-a145f5d24920",
   "metadata": {},
   "outputs": [
    {
     "data": {
      "text/plain": [
       "['a', 'b', 'c', 'd']"
      ]
     },
     "execution_count": 20,
     "metadata": {},
     "output_type": "execute_result"
    }
   ],
   "source": [
    "list(c)"
   ]
  },
  {
   "cell_type": "code",
   "execution_count": null,
   "id": "c901ee6f-0c93-4824-b0e9-41035e9178b3",
   "metadata": {},
   "outputs": [],
   "source": []
  }
 ],
 "metadata": {
  "kernelspec": {
   "display_name": "Python 3 (ipykernel)",
   "language": "python",
   "name": "python3"
  },
  "language_info": {
   "codemirror_mode": {
    "name": "ipython",
    "version": 3
   },
   "file_extension": ".py",
   "mimetype": "text/x-python",
   "name": "python",
   "nbconvert_exporter": "python",
   "pygments_lexer": "ipython3",
   "version": "3.11.7"
  }
 },
 "nbformat": 4,
 "nbformat_minor": 5
}
