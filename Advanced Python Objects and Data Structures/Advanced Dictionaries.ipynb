{
 "cells": [
  {
   "cell_type": "code",
   "execution_count": 7,
   "id": "9bfad1b5-a0e3-4bed-84f5-a6bbee816fbe",
   "metadata": {},
   "outputs": [],
   "source": [
    "d = {'k1':1,'k2':2}"
   ]
  },
  {
   "cell_type": "code",
   "execution_count": 8,
   "id": "293ec00b-650b-4e48-9bbf-71a20701e27e",
   "metadata": {},
   "outputs": [
    {
     "data": {
      "text/plain": [
       "{'k1': 1, 'k2': 2}"
      ]
     },
     "execution_count": 8,
     "metadata": {},
     "output_type": "execute_result"
    }
   ],
   "source": [
    "d"
   ]
  },
  {
   "cell_type": "code",
   "execution_count": 9,
   "id": "6aa156dc-7206-4293-9b91-487860fdea44",
   "metadata": {},
   "outputs": [],
   "source": [
    "# Dictionaries Comprehension"
   ]
  },
  {
   "cell_type": "code",
   "execution_count": 10,
   "id": "4cd53b53-596c-4dce-b775-576f89800e44",
   "metadata": {},
   "outputs": [
    {
     "data": {
      "text/plain": [
       "{0: 0, 1: 1, 2: 4, 3: 9, 4: 16, 5: 25, 6: 36, 7: 49, 8: 64, 9: 81}"
      ]
     },
     "execution_count": 10,
     "metadata": {},
     "output_type": "execute_result"
    }
   ],
   "source": [
    "{x:x**2 for x in range(10)}"
   ]
  },
  {
   "cell_type": "code",
   "execution_count": 12,
   "id": "1f3642e2-7b99-4f79-adc0-0ced95a0fb4b",
   "metadata": {},
   "outputs": [
    {
     "name": "stdout",
     "output_type": "stream",
     "text": [
      "('k1', 1)\n",
      "('k2', 2)\n"
     ]
    }
   ],
   "source": [
    "for k in d.items():\n",
    "    print(k)"
   ]
  },
  {
   "cell_type": "code",
   "execution_count": 14,
   "id": "af07bf87-785d-4fc5-b5a4-d5fe1debb451",
   "metadata": {},
   "outputs": [
    {
     "data": {
      "text/plain": [
       "dict_values([1, 2])"
      ]
     },
     "execution_count": 14,
     "metadata": {},
     "output_type": "execute_result"
    }
   ],
   "source": [
    "d.values()"
   ]
  },
  {
   "cell_type": "code",
   "execution_count": 15,
   "id": "260bd783-37ed-4a50-9005-e2231a590cc4",
   "metadata": {},
   "outputs": [],
   "source": [
    "fruits = {\"apple\": 0.40, \"orange\": 0.35, \"banana\": 0.25}\n",
    "\n",
    "for fruit, price in fruits.items():\n",
    "     fruits[fruit] = round(price * 0.9, 2)"
   ]
  },
  {
   "cell_type": "code",
   "execution_count": 16,
   "id": "c9b1bdec-e068-47af-84a4-e55caefac9c3",
   "metadata": {},
   "outputs": [
    {
     "data": {
      "text/plain": [
       "{'apple': 0.36, 'orange': 0.32, 'banana': 0.23}"
      ]
     },
     "execution_count": 16,
     "metadata": {},
     "output_type": "execute_result"
    }
   ],
   "source": [
    "fruits"
   ]
  },
  {
   "cell_type": "code",
   "execution_count": null,
   "id": "1d22de45-73ab-4c7d-980a-f1ff28d09a68",
   "metadata": {},
   "outputs": [],
   "source": []
  }
 ],
 "metadata": {
  "kernelspec": {
   "display_name": "Python 3 (ipykernel)",
   "language": "python",
   "name": "python3"
  },
  "language_info": {
   "codemirror_mode": {
    "name": "ipython",
    "version": 3
   },
   "file_extension": ".py",
   "mimetype": "text/x-python",
   "name": "python",
   "nbconvert_exporter": "python",
   "pygments_lexer": "ipython3",
   "version": "3.11.7"
  }
 },
 "nbformat": 4,
 "nbformat_minor": 5
}
