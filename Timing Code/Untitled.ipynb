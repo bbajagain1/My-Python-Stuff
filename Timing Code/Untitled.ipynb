{
 "cells": [
  {
   "cell_type": "code",
   "execution_count": 1,
   "id": "436dd748-b530-4ca4-913a-1d7325e9b43b",
   "metadata": {},
   "outputs": [],
   "source": [
    "def func_one(n):\n",
    "    return [str(num) for num in range(n)]"
   ]
  },
  {
   "cell_type": "code",
   "execution_count": 2,
   "id": "01310f42-26fc-42c9-92ba-d09254b4d03c",
   "metadata": {},
   "outputs": [
    {
     "data": {
      "text/plain": [
       "['0', '1', '2', '3', '4', '5', '6', '7', '8', '9']"
      ]
     },
     "execution_count": 2,
     "metadata": {},
     "output_type": "execute_result"
    }
   ],
   "source": [
    "func_one(10)"
   ]
  },
  {
   "cell_type": "code",
   "execution_count": 3,
   "id": "07b0e1c3-8add-4ad9-ba3d-50d334dc5e97",
   "metadata": {},
   "outputs": [],
   "source": [
    "def func_two(n):\n",
    "    return list(map(str,range(n)))"
   ]
  },
  {
   "cell_type": "code",
   "execution_count": 4,
   "id": "9abe087c-a21d-413b-96ef-a340437358c0",
   "metadata": {},
   "outputs": [
    {
     "data": {
      "text/plain": [
       "['0', '1', '2', '3', '4', '5', '6', '7', '8', '9']"
      ]
     },
     "execution_count": 4,
     "metadata": {},
     "output_type": "execute_result"
    }
   ],
   "source": [
    "func_two(10)"
   ]
  },
  {
   "cell_type": "code",
   "execution_count": null,
   "id": "bca1a83b-55df-482b-9a48-ae6b9adb7db3",
   "metadata": {},
   "outputs": [],
   "source": []
  },
  {
   "cell_type": "code",
   "execution_count": 6,
   "id": "4ed645b3-fdab-4149-9491-da68543a9c7a",
   "metadata": {},
   "outputs": [
    {
     "name": "stdout",
     "output_type": "stream",
     "text": [
      "0.0021142959594726562\n"
     ]
    }
   ],
   "source": [
    "import time\n",
    "\n",
    "# Current time before\n",
    "start_time = time.time()\n",
    "\n",
    "# Run code\n",
    "result = func_one(10000)\n",
    "\n",
    "# Current time\n",
    "end_time = time.time()\n",
    "\n",
    "# Elapse time\n",
    "elapsed_time = end_time - start_time\n",
    "\n",
    "print(elapsed_time)"
   ]
  },
  {
   "cell_type": "code",
   "execution_count": 7,
   "id": "d7d45abe-8371-4fa7-9870-1a66c52b46e7",
   "metadata": {},
   "outputs": [
    {
     "name": "stdout",
     "output_type": "stream",
     "text": [
      "0.003586292266845703\n"
     ]
    }
   ],
   "source": [
    "import time\n",
    "\n",
    "# Current time before\n",
    "start_time = time.time()\n",
    "\n",
    "# Run code\n",
    "result = func_two(10000)\n",
    "\n",
    "# Current time\n",
    "end_time = time.time()\n",
    "\n",
    "# Elapse time\n",
    "elapsed_time = end_time - start_time\n",
    "\n",
    "print(elapsed_time)"
   ]
  },
  {
   "cell_type": "code",
   "execution_count": 8,
   "id": "5247f92f-de48-4899-b1bd-66aa3f52fcf6",
   "metadata": {},
   "outputs": [],
   "source": [
    "import timeit"
   ]
  },
  {
   "cell_type": "code",
   "execution_count": 9,
   "id": "4453bc28-123b-4b9a-92d2-7778833e2683",
   "metadata": {},
   "outputs": [],
   "source": [
    "stmt = '''\n",
    "func_one(100)\n",
    "'''"
   ]
  },
  {
   "cell_type": "code",
   "execution_count": 10,
   "id": "75109e2e-7f35-4812-ad25-578ee16043ab",
   "metadata": {},
   "outputs": [],
   "source": [
    "setup = '''\n",
    "def func_one(n):\n",
    "    return [str(num) for num in range(n)]\n",
    "'''"
   ]
  },
  {
   "cell_type": "code",
   "execution_count": 12,
   "id": "b88bfe68-8bc1-4e60-8909-b1d3fb064057",
   "metadata": {},
   "outputs": [
    {
     "data": {
      "text/plain": [
       "0.9591105000581592"
      ]
     },
     "execution_count": 12,
     "metadata": {},
     "output_type": "execute_result"
    }
   ],
   "source": [
    "# Create a Timer instance with the given statement, setup code and timer function and run its timeit() method with number execution\n",
    "#  timeit.timeit(stmt='pass', setup='pass', timer=<default timer>, number=1000000, globals=None)\n",
    "timeit.timeit(stmt,setup,number=100000)"
   ]
  },
  {
   "cell_type": "code",
   "execution_count": 13,
   "id": "799186d5-f735-42de-acee-44e63001affe",
   "metadata": {},
   "outputs": [],
   "source": [
    "## Jupyter Notebook specific\n",
    "## Magic"
   ]
  },
  {
   "cell_type": "code",
   "execution_count": 14,
   "id": "58373109-bac1-46a2-b300-946bb4bb843a",
   "metadata": {},
   "outputs": [
    {
     "name": "stdout",
     "output_type": "stream",
     "text": [
      "11 µs ± 1.69 µs per loop (mean ± std. dev. of 7 runs, 100,000 loops each)\n"
     ]
    }
   ],
   "source": [
    "%%timeit\n",
    "func_one(100)"
   ]
  },
  {
   "cell_type": "code",
   "execution_count": 15,
   "id": "dc23bf31-d6fa-4c48-a8ce-162c0a349c38",
   "metadata": {},
   "outputs": [
    {
     "name": "stdout",
     "output_type": "stream",
     "text": [
      "11.3 µs ± 121 ns per loop (mean ± std. dev. of 7 runs, 100,000 loops each)\n"
     ]
    }
   ],
   "source": [
    "%%timeit\n",
    "func_two(100)"
   ]
  },
  {
   "cell_type": "code",
   "execution_count": null,
   "id": "d4b31708-0b6e-44a7-9669-328b97b9ad33",
   "metadata": {},
   "outputs": [],
   "source": []
  }
 ],
 "metadata": {
  "kernelspec": {
   "display_name": "Python 3 (ipykernel)",
   "language": "python",
   "name": "python3"
  },
  "language_info": {
   "codemirror_mode": {
    "name": "ipython",
    "version": 3
   },
   "file_extension": ".py",
   "mimetype": "text/x-python",
   "name": "python",
   "nbconvert_exporter": "python",
   "pygments_lexer": "ipython3",
   "version": "3.11.7"
  }
 },
 "nbformat": 4,
 "nbformat_minor": 5
}
